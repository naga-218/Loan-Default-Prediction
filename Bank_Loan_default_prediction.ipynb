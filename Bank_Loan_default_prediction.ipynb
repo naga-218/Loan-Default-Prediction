{
 "cells": [
  {
   "cell_type": "markdown",
   "metadata": {},
   "source": [
    "## Default of Bank Loan Clients - Predictive Models"
   ]
  },
  {
   "cell_type": "markdown",
   "metadata": {},
   "source": [
    "### Problem statement"
   ]
  },
  {
   "cell_type": "markdown",
   "metadata": {},
   "source": [
    "In general, whenever an individual/corporation applies for a loan from a bank (or any loan issuer), their credit history undergoes a rigorous check to ensure that whether they are capable enough to pay off the loan (in this industry it is referred to as credit-worthiness). "
   ]
  },
  {
   "cell_type": "markdown",
   "metadata": {},
   "source": [
    "The issuers have a set of model/s and rule/s in place which take information regarding their current financial standing, previous credit history and some other variables as input and output a metric which gives a measure of the risk that the issuer will potentially take on issuing the loan. The measure is generally in the form of a probability and is the risk that the person will default on their loan (called the probability of default) in the future."
   ]
  },
  {
   "cell_type": "markdown",
   "metadata": {},
   "source": [
    "### Solution Approach\n",
    "\n",
    "- Read data,\n",
    "- include relevant columns\n",
    "- Transform data (data cleansing)\n",
    "- Missing value imputation\n",
    "- Categorize/Dummify\n",
    "- Move target variable to different dataframe\n",
    "- Split - train and cross validation sets\n",
    "- Predict"
   ]
  },
  {
   "cell_type": "markdown",
   "metadata": {},
   "source": [
    "### Load packages"
   ]
  },
  {
   "cell_type": "code",
   "execution_count": 1,
   "metadata": {},
   "outputs": [],
   "source": [
    "# Importing require libraries\n",
    "import pandas as pd\n",
    "import numpy as np\n",
    "import matplotlib.pyplot as plt\n",
    "import seaborn as sns\n",
    "%matplotlib inline\n",
    "import warnings\n",
    "warnings.filterwarnings('ignore')\n",
    "from sklearn.linear_model import LogisticRegression\n",
    "from sklearn.tree import DecisionTreeClassifier\n",
    "from sklearn.ensemble import RandomForestClassifier\n",
    "from sklearn.model_selection import RandomizedSearchCV\n",
    "from sklearn import metrics\n",
    "from xgboost import XGBClassifier\n",
    "from imblearn.combine import SMOTETomek\n",
    "from imblearn.over_sampling import RandomOverSampler\n",
    "from imblearn.under_sampling import RandomUnderSampler"
   ]
  },
  {
   "cell_type": "code",
   "execution_count": 2,
   "metadata": {},
   "outputs": [],
   "source": [
    "from IPython.core.interactiveshell import InteractiveShell\n",
    "InteractiveShell.ast_node_interactivity = \"all\""
   ]
  },
  {
   "cell_type": "code",
   "execution_count": 3,
   "metadata": {},
   "outputs": [],
   "source": [
    "pd.options.display.max_rows = 4000"
   ]
  },
  {
   "cell_type": "markdown",
   "metadata": {},
   "source": [
    "### Read the data"
   ]
  },
  {
   "cell_type": "code",
   "execution_count": 4,
   "metadata": {},
   "outputs": [],
   "source": [
    "# importing data from local directory \n",
    "df = pd.read_csv('XYZCorp_LendingData.txt', sep='\\t')"
   ]
  },
  {
   "cell_type": "markdown",
   "metadata": {},
   "source": [
    "### Check the data"
   ]
  },
  {
   "cell_type": "code",
   "execution_count": 5,
   "metadata": {},
   "outputs": [
    {
     "data": {
      "text/plain": [
       "(855969, 73)"
      ]
     },
     "execution_count": 5,
     "metadata": {},
     "output_type": "execute_result"
    }
   ],
   "source": [
    "# Checking Number of rows and columns\n",
    "df.shape"
   ]
  },
  {
   "cell_type": "markdown",
   "metadata": {},
   "source": [
    "### Glimpse the data"
   ]
  },
  {
   "cell_type": "markdown",
   "metadata": {},
   "source": [
    "##### Univariate analysis"
   ]
  },
  {
   "cell_type": "code",
   "execution_count": 6,
   "metadata": {},
   "outputs": [
    {
     "data": {
      "text/html": [
       "<div>\n",
       "<style scoped>\n",
       "    .dataframe tbody tr th:only-of-type {\n",
       "        vertical-align: middle;\n",
       "    }\n",
       "\n",
       "    .dataframe tbody tr th {\n",
       "        vertical-align: top;\n",
       "    }\n",
       "\n",
       "    .dataframe thead th {\n",
       "        text-align: right;\n",
       "    }\n",
       "</style>\n",
       "<table border=\"1\" class=\"dataframe\">\n",
       "  <thead>\n",
       "    <tr style=\"text-align: right;\">\n",
       "      <th></th>\n",
       "      <th>id</th>\n",
       "      <th>member_id</th>\n",
       "      <th>loan_amnt</th>\n",
       "      <th>funded_amnt</th>\n",
       "      <th>funded_amnt_inv</th>\n",
       "      <th>term</th>\n",
       "      <th>int_rate</th>\n",
       "      <th>installment</th>\n",
       "      <th>grade</th>\n",
       "      <th>sub_grade</th>\n",
       "      <th>...</th>\n",
       "      <th>il_util</th>\n",
       "      <th>open_rv_12m</th>\n",
       "      <th>open_rv_24m</th>\n",
       "      <th>max_bal_bc</th>\n",
       "      <th>all_util</th>\n",
       "      <th>total_rev_hi_lim</th>\n",
       "      <th>inq_fi</th>\n",
       "      <th>total_cu_tl</th>\n",
       "      <th>inq_last_12m</th>\n",
       "      <th>default_ind</th>\n",
       "    </tr>\n",
       "  </thead>\n",
       "  <tbody>\n",
       "    <tr>\n",
       "      <th>0</th>\n",
       "      <td>1077501</td>\n",
       "      <td>1296599</td>\n",
       "      <td>5000.0</td>\n",
       "      <td>5000.0</td>\n",
       "      <td>4975.0</td>\n",
       "      <td>36 months</td>\n",
       "      <td>10.65</td>\n",
       "      <td>162.87</td>\n",
       "      <td>B</td>\n",
       "      <td>B2</td>\n",
       "      <td>...</td>\n",
       "      <td>NaN</td>\n",
       "      <td>NaN</td>\n",
       "      <td>NaN</td>\n",
       "      <td>NaN</td>\n",
       "      <td>NaN</td>\n",
       "      <td>NaN</td>\n",
       "      <td>NaN</td>\n",
       "      <td>NaN</td>\n",
       "      <td>NaN</td>\n",
       "      <td>0</td>\n",
       "    </tr>\n",
       "    <tr>\n",
       "      <th>1</th>\n",
       "      <td>1077430</td>\n",
       "      <td>1314167</td>\n",
       "      <td>2500.0</td>\n",
       "      <td>2500.0</td>\n",
       "      <td>2500.0</td>\n",
       "      <td>60 months</td>\n",
       "      <td>15.27</td>\n",
       "      <td>59.83</td>\n",
       "      <td>C</td>\n",
       "      <td>C4</td>\n",
       "      <td>...</td>\n",
       "      <td>NaN</td>\n",
       "      <td>NaN</td>\n",
       "      <td>NaN</td>\n",
       "      <td>NaN</td>\n",
       "      <td>NaN</td>\n",
       "      <td>NaN</td>\n",
       "      <td>NaN</td>\n",
       "      <td>NaN</td>\n",
       "      <td>NaN</td>\n",
       "      <td>1</td>\n",
       "    </tr>\n",
       "    <tr>\n",
       "      <th>2</th>\n",
       "      <td>1077175</td>\n",
       "      <td>1313524</td>\n",
       "      <td>2400.0</td>\n",
       "      <td>2400.0</td>\n",
       "      <td>2400.0</td>\n",
       "      <td>36 months</td>\n",
       "      <td>15.96</td>\n",
       "      <td>84.33</td>\n",
       "      <td>C</td>\n",
       "      <td>C5</td>\n",
       "      <td>...</td>\n",
       "      <td>NaN</td>\n",
       "      <td>NaN</td>\n",
       "      <td>NaN</td>\n",
       "      <td>NaN</td>\n",
       "      <td>NaN</td>\n",
       "      <td>NaN</td>\n",
       "      <td>NaN</td>\n",
       "      <td>NaN</td>\n",
       "      <td>NaN</td>\n",
       "      <td>0</td>\n",
       "    </tr>\n",
       "    <tr>\n",
       "      <th>3</th>\n",
       "      <td>1076863</td>\n",
       "      <td>1277178</td>\n",
       "      <td>10000.0</td>\n",
       "      <td>10000.0</td>\n",
       "      <td>10000.0</td>\n",
       "      <td>36 months</td>\n",
       "      <td>13.49</td>\n",
       "      <td>339.31</td>\n",
       "      <td>C</td>\n",
       "      <td>C1</td>\n",
       "      <td>...</td>\n",
       "      <td>NaN</td>\n",
       "      <td>NaN</td>\n",
       "      <td>NaN</td>\n",
       "      <td>NaN</td>\n",
       "      <td>NaN</td>\n",
       "      <td>NaN</td>\n",
       "      <td>NaN</td>\n",
       "      <td>NaN</td>\n",
       "      <td>NaN</td>\n",
       "      <td>0</td>\n",
       "    </tr>\n",
       "    <tr>\n",
       "      <th>4</th>\n",
       "      <td>1075358</td>\n",
       "      <td>1311748</td>\n",
       "      <td>3000.0</td>\n",
       "      <td>3000.0</td>\n",
       "      <td>3000.0</td>\n",
       "      <td>60 months</td>\n",
       "      <td>12.69</td>\n",
       "      <td>67.79</td>\n",
       "      <td>B</td>\n",
       "      <td>B5</td>\n",
       "      <td>...</td>\n",
       "      <td>NaN</td>\n",
       "      <td>NaN</td>\n",
       "      <td>NaN</td>\n",
       "      <td>NaN</td>\n",
       "      <td>NaN</td>\n",
       "      <td>NaN</td>\n",
       "      <td>NaN</td>\n",
       "      <td>NaN</td>\n",
       "      <td>NaN</td>\n",
       "      <td>0</td>\n",
       "    </tr>\n",
       "  </tbody>\n",
       "</table>\n",
       "<p>5 rows × 73 columns</p>\n",
       "</div>"
      ],
      "text/plain": [
       "        id  member_id  loan_amnt  funded_amnt  funded_amnt_inv        term  \\\n",
       "0  1077501    1296599     5000.0       5000.0           4975.0   36 months   \n",
       "1  1077430    1314167     2500.0       2500.0           2500.0   60 months   \n",
       "2  1077175    1313524     2400.0       2400.0           2400.0   36 months   \n",
       "3  1076863    1277178    10000.0      10000.0          10000.0   36 months   \n",
       "4  1075358    1311748     3000.0       3000.0           3000.0   60 months   \n",
       "\n",
       "   int_rate  installment grade sub_grade  ... il_util open_rv_12m open_rv_24m  \\\n",
       "0     10.65       162.87     B        B2  ...     NaN         NaN         NaN   \n",
       "1     15.27        59.83     C        C4  ...     NaN         NaN         NaN   \n",
       "2     15.96        84.33     C        C5  ...     NaN         NaN         NaN   \n",
       "3     13.49       339.31     C        C1  ...     NaN         NaN         NaN   \n",
       "4     12.69        67.79     B        B5  ...     NaN         NaN         NaN   \n",
       "\n",
       "   max_bal_bc all_util total_rev_hi_lim inq_fi total_cu_tl inq_last_12m  \\\n",
       "0         NaN      NaN              NaN    NaN         NaN          NaN   \n",
       "1         NaN      NaN              NaN    NaN         NaN          NaN   \n",
       "2         NaN      NaN              NaN    NaN         NaN          NaN   \n",
       "3         NaN      NaN              NaN    NaN         NaN          NaN   \n",
       "4         NaN      NaN              NaN    NaN         NaN          NaN   \n",
       "\n",
       "  default_ind  \n",
       "0           0  \n",
       "1           1  \n",
       "2           0  \n",
       "3           0  \n",
       "4           0  \n",
       "\n",
       "[5 rows x 73 columns]"
      ]
     },
     "execution_count": 6,
     "metadata": {},
     "output_type": "execute_result"
    }
   ],
   "source": [
    "#and checking data wheather the data correctly loaded or not with head function\n",
    "df.head()"
   ]
  },
  {
   "cell_type": "code",
   "execution_count": 7,
   "metadata": {},
   "outputs": [
    {
     "data": {
      "text/html": [
       "<div>\n",
       "<style scoped>\n",
       "    .dataframe tbody tr th:only-of-type {\n",
       "        vertical-align: middle;\n",
       "    }\n",
       "\n",
       "    .dataframe tbody tr th {\n",
       "        vertical-align: top;\n",
       "    }\n",
       "\n",
       "    .dataframe thead th {\n",
       "        text-align: right;\n",
       "    }\n",
       "</style>\n",
       "<table border=\"1\" class=\"dataframe\">\n",
       "  <thead>\n",
       "    <tr style=\"text-align: right;\">\n",
       "      <th></th>\n",
       "      <th>id</th>\n",
       "      <th>member_id</th>\n",
       "      <th>loan_amnt</th>\n",
       "      <th>funded_amnt</th>\n",
       "      <th>funded_amnt_inv</th>\n",
       "      <th>int_rate</th>\n",
       "      <th>installment</th>\n",
       "      <th>annual_inc</th>\n",
       "      <th>dti</th>\n",
       "      <th>delinq_2yrs</th>\n",
       "      <th>...</th>\n",
       "      <th>il_util</th>\n",
       "      <th>open_rv_12m</th>\n",
       "      <th>open_rv_24m</th>\n",
       "      <th>max_bal_bc</th>\n",
       "      <th>all_util</th>\n",
       "      <th>total_rev_hi_lim</th>\n",
       "      <th>inq_fi</th>\n",
       "      <th>total_cu_tl</th>\n",
       "      <th>inq_last_12m</th>\n",
       "      <th>default_ind</th>\n",
       "    </tr>\n",
       "  </thead>\n",
       "  <tbody>\n",
       "    <tr>\n",
       "      <th>count</th>\n",
       "      <td>8.559690e+05</td>\n",
       "      <td>8.559690e+05</td>\n",
       "      <td>855969.000000</td>\n",
       "      <td>855969.000000</td>\n",
       "      <td>855969.000000</td>\n",
       "      <td>855969.000000</td>\n",
       "      <td>855969.000000</td>\n",
       "      <td>8.559690e+05</td>\n",
       "      <td>855969.000000</td>\n",
       "      <td>855969.000000</td>\n",
       "      <td>...</td>\n",
       "      <td>11609.000000</td>\n",
       "      <td>13288.000000</td>\n",
       "      <td>13288.000000</td>\n",
       "      <td>13288.000000</td>\n",
       "      <td>13288.000000</td>\n",
       "      <td>7.886560e+05</td>\n",
       "      <td>13288.000000</td>\n",
       "      <td>13288.000000</td>\n",
       "      <td>13288.000000</td>\n",
       "      <td>855969.000000</td>\n",
       "    </tr>\n",
       "    <tr>\n",
       "      <th>mean</th>\n",
       "      <td>3.224073e+07</td>\n",
       "      <td>3.476269e+07</td>\n",
       "      <td>14745.571335</td>\n",
       "      <td>14732.378305</td>\n",
       "      <td>14700.061226</td>\n",
       "      <td>13.192320</td>\n",
       "      <td>436.238072</td>\n",
       "      <td>7.507119e+04</td>\n",
       "      <td>18.122165</td>\n",
       "      <td>0.311621</td>\n",
       "      <td>...</td>\n",
       "      <td>71.486993</td>\n",
       "      <td>1.354305</td>\n",
       "      <td>2.945515</td>\n",
       "      <td>5840.443332</td>\n",
       "      <td>61.024526</td>\n",
       "      <td>3.216357e+04</td>\n",
       "      <td>0.947772</td>\n",
       "      <td>1.524232</td>\n",
       "      <td>1.841963</td>\n",
       "      <td>0.054286</td>\n",
       "    </tr>\n",
       "    <tr>\n",
       "      <th>std</th>\n",
       "      <td>2.271969e+07</td>\n",
       "      <td>2.399418e+07</td>\n",
       "      <td>8425.340005</td>\n",
       "      <td>8419.471653</td>\n",
       "      <td>8425.805478</td>\n",
       "      <td>4.368365</td>\n",
       "      <td>243.726876</td>\n",
       "      <td>6.426447e+04</td>\n",
       "      <td>17.423629</td>\n",
       "      <td>0.857189</td>\n",
       "      <td>...</td>\n",
       "      <td>23.015293</td>\n",
       "      <td>1.483710</td>\n",
       "      <td>2.595313</td>\n",
       "      <td>5108.500262</td>\n",
       "      <td>20.018117</td>\n",
       "      <td>3.769964e+04</td>\n",
       "      <td>1.441667</td>\n",
       "      <td>2.697601</td>\n",
       "      <td>2.975049</td>\n",
       "      <td>0.226581</td>\n",
       "    </tr>\n",
       "    <tr>\n",
       "      <th>min</th>\n",
       "      <td>5.473400e+04</td>\n",
       "      <td>7.069900e+04</td>\n",
       "      <td>500.000000</td>\n",
       "      <td>500.000000</td>\n",
       "      <td>0.000000</td>\n",
       "      <td>5.320000</td>\n",
       "      <td>15.690000</td>\n",
       "      <td>0.000000e+00</td>\n",
       "      <td>0.000000</td>\n",
       "      <td>0.000000</td>\n",
       "      <td>...</td>\n",
       "      <td>0.000000</td>\n",
       "      <td>0.000000</td>\n",
       "      <td>0.000000</td>\n",
       "      <td>0.000000</td>\n",
       "      <td>0.000000</td>\n",
       "      <td>0.000000e+00</td>\n",
       "      <td>0.000000</td>\n",
       "      <td>0.000000</td>\n",
       "      <td>-4.000000</td>\n",
       "      <td>0.000000</td>\n",
       "    </tr>\n",
       "    <tr>\n",
       "      <th>25%</th>\n",
       "      <td>9.067986e+06</td>\n",
       "      <td>1.079273e+07</td>\n",
       "      <td>8000.000000</td>\n",
       "      <td>8000.000000</td>\n",
       "      <td>8000.000000</td>\n",
       "      <td>9.990000</td>\n",
       "      <td>260.550000</td>\n",
       "      <td>4.500000e+04</td>\n",
       "      <td>11.880000</td>\n",
       "      <td>0.000000</td>\n",
       "      <td>...</td>\n",
       "      <td>58.500000</td>\n",
       "      <td>0.000000</td>\n",
       "      <td>1.000000</td>\n",
       "      <td>2405.000000</td>\n",
       "      <td>47.900000</td>\n",
       "      <td>1.400000e+04</td>\n",
       "      <td>0.000000</td>\n",
       "      <td>0.000000</td>\n",
       "      <td>0.000000</td>\n",
       "      <td>0.000000</td>\n",
       "    </tr>\n",
       "    <tr>\n",
       "      <th>50%</th>\n",
       "      <td>3.431355e+07</td>\n",
       "      <td>3.697532e+07</td>\n",
       "      <td>13000.000000</td>\n",
       "      <td>13000.000000</td>\n",
       "      <td>13000.000000</td>\n",
       "      <td>12.990000</td>\n",
       "      <td>382.550000</td>\n",
       "      <td>6.500000e+04</td>\n",
       "      <td>17.610000</td>\n",
       "      <td>0.000000</td>\n",
       "      <td>...</td>\n",
       "      <td>75.000000</td>\n",
       "      <td>1.000000</td>\n",
       "      <td>2.000000</td>\n",
       "      <td>4485.500000</td>\n",
       "      <td>62.100000</td>\n",
       "      <td>2.380000e+04</td>\n",
       "      <td>0.000000</td>\n",
       "      <td>0.000000</td>\n",
       "      <td>2.000000</td>\n",
       "      <td>0.000000</td>\n",
       "    </tr>\n",
       "    <tr>\n",
       "      <th>75%</th>\n",
       "      <td>5.446311e+07</td>\n",
       "      <td>5.803559e+07</td>\n",
       "      <td>20000.000000</td>\n",
       "      <td>20000.000000</td>\n",
       "      <td>20000.000000</td>\n",
       "      <td>15.990000</td>\n",
       "      <td>571.560000</td>\n",
       "      <td>9.000000e+04</td>\n",
       "      <td>23.900000</td>\n",
       "      <td>0.000000</td>\n",
       "      <td>...</td>\n",
       "      <td>87.500000</td>\n",
       "      <td>2.000000</td>\n",
       "      <td>4.000000</td>\n",
       "      <td>7701.250000</td>\n",
       "      <td>75.300000</td>\n",
       "      <td>3.990000e+04</td>\n",
       "      <td>1.000000</td>\n",
       "      <td>2.000000</td>\n",
       "      <td>3.000000</td>\n",
       "      <td>0.000000</td>\n",
       "    </tr>\n",
       "    <tr>\n",
       "      <th>max</th>\n",
       "      <td>6.861687e+07</td>\n",
       "      <td>7.351969e+07</td>\n",
       "      <td>35000.000000</td>\n",
       "      <td>35000.000000</td>\n",
       "      <td>35000.000000</td>\n",
       "      <td>28.990000</td>\n",
       "      <td>1445.460000</td>\n",
       "      <td>9.500000e+06</td>\n",
       "      <td>9999.000000</td>\n",
       "      <td>39.000000</td>\n",
       "      <td>...</td>\n",
       "      <td>223.300000</td>\n",
       "      <td>22.000000</td>\n",
       "      <td>43.000000</td>\n",
       "      <td>83047.000000</td>\n",
       "      <td>151.400000</td>\n",
       "      <td>9.999999e+06</td>\n",
       "      <td>15.000000</td>\n",
       "      <td>33.000000</td>\n",
       "      <td>32.000000</td>\n",
       "      <td>1.000000</td>\n",
       "    </tr>\n",
       "  </tbody>\n",
       "</table>\n",
       "<p>8 rows × 52 columns</p>\n",
       "</div>"
      ],
      "text/plain": [
       "                 id     member_id      loan_amnt    funded_amnt  \\\n",
       "count  8.559690e+05  8.559690e+05  855969.000000  855969.000000   \n",
       "mean   3.224073e+07  3.476269e+07   14745.571335   14732.378305   \n",
       "std    2.271969e+07  2.399418e+07    8425.340005    8419.471653   \n",
       "min    5.473400e+04  7.069900e+04     500.000000     500.000000   \n",
       "25%    9.067986e+06  1.079273e+07    8000.000000    8000.000000   \n",
       "50%    3.431355e+07  3.697532e+07   13000.000000   13000.000000   \n",
       "75%    5.446311e+07  5.803559e+07   20000.000000   20000.000000   \n",
       "max    6.861687e+07  7.351969e+07   35000.000000   35000.000000   \n",
       "\n",
       "       funded_amnt_inv       int_rate    installment    annual_inc  \\\n",
       "count    855969.000000  855969.000000  855969.000000  8.559690e+05   \n",
       "mean      14700.061226      13.192320     436.238072  7.507119e+04   \n",
       "std        8425.805478       4.368365     243.726876  6.426447e+04   \n",
       "min           0.000000       5.320000      15.690000  0.000000e+00   \n",
       "25%        8000.000000       9.990000     260.550000  4.500000e+04   \n",
       "50%       13000.000000      12.990000     382.550000  6.500000e+04   \n",
       "75%       20000.000000      15.990000     571.560000  9.000000e+04   \n",
       "max       35000.000000      28.990000    1445.460000  9.500000e+06   \n",
       "\n",
       "                 dti    delinq_2yrs  ...       il_util   open_rv_12m  \\\n",
       "count  855969.000000  855969.000000  ...  11609.000000  13288.000000   \n",
       "mean       18.122165       0.311621  ...     71.486993      1.354305   \n",
       "std        17.423629       0.857189  ...     23.015293      1.483710   \n",
       "min         0.000000       0.000000  ...      0.000000      0.000000   \n",
       "25%        11.880000       0.000000  ...     58.500000      0.000000   \n",
       "50%        17.610000       0.000000  ...     75.000000      1.000000   \n",
       "75%        23.900000       0.000000  ...     87.500000      2.000000   \n",
       "max      9999.000000      39.000000  ...    223.300000     22.000000   \n",
       "\n",
       "        open_rv_24m    max_bal_bc      all_util  total_rev_hi_lim  \\\n",
       "count  13288.000000  13288.000000  13288.000000      7.886560e+05   \n",
       "mean       2.945515   5840.443332     61.024526      3.216357e+04   \n",
       "std        2.595313   5108.500262     20.018117      3.769964e+04   \n",
       "min        0.000000      0.000000      0.000000      0.000000e+00   \n",
       "25%        1.000000   2405.000000     47.900000      1.400000e+04   \n",
       "50%        2.000000   4485.500000     62.100000      2.380000e+04   \n",
       "75%        4.000000   7701.250000     75.300000      3.990000e+04   \n",
       "max       43.000000  83047.000000    151.400000      9.999999e+06   \n",
       "\n",
       "             inq_fi   total_cu_tl  inq_last_12m    default_ind  \n",
       "count  13288.000000  13288.000000  13288.000000  855969.000000  \n",
       "mean       0.947772      1.524232      1.841963       0.054286  \n",
       "std        1.441667      2.697601      2.975049       0.226581  \n",
       "min        0.000000      0.000000     -4.000000       0.000000  \n",
       "25%        0.000000      0.000000      0.000000       0.000000  \n",
       "50%        0.000000      0.000000      2.000000       0.000000  \n",
       "75%        1.000000      2.000000      3.000000       0.000000  \n",
       "max       15.000000     33.000000     32.000000       1.000000  \n",
       "\n",
       "[8 rows x 52 columns]"
      ]
     },
     "execution_count": 7,
     "metadata": {},
     "output_type": "execute_result"
    }
   ],
   "source": [
    "# Checking mean, standard deviation and qurtiles of all the variables\n",
    "df.describe()"
   ]
  },
  {
   "cell_type": "markdown",
   "metadata": {},
   "source": [
    "There are 855969 distinct bank loan clients\n",
    "\n",
    "The average value for the amount of loan_amount limit is 14745. The standard deviation is 8425\n",
    "\n",
    "As the value 0 for default payment means 'not default' and value 1 means 'default',the mean of 0.054286 means that there are 5.4% of bank loan contracts that will default next month (will verify this in the next sections of this analysis)."
   ]
  },
  {
   "cell_type": "markdown",
   "metadata": {},
   "source": [
    "#### divding numerical and categorical column names "
   ]
  },
  {
   "cell_type": "code",
   "execution_count": 8,
   "metadata": {},
   "outputs": [
    {
     "name": "stdout",
     "output_type": "stream",
     "text": [
      "Numerical features:  52\n",
      "Categorical features:  21\n"
     ]
    }
   ],
   "source": [
    "numerical_feats = df.dtypes[df.dtypes != \"object\"].index\n",
    "print(\"Numerical features: \", len(numerical_feats))\n",
    "\n",
    "categorical_feats = df.dtypes[df.dtypes == \"object\"].index\n",
    "print(\"Categorical features: \", len(categorical_feats))"
   ]
  },
  {
   "cell_type": "markdown",
   "metadata": {},
   "source": [
    "### Check missing data"
   ]
  },
  {
   "cell_type": "code",
   "execution_count": 9,
   "metadata": {},
   "outputs": [
    {
     "data": {
      "text/plain": [
       "id                              0.00\n",
       "member_id                       0.00\n",
       "loan_amnt                       0.00\n",
       "funded_amnt                     0.00\n",
       "funded_amnt_inv                 0.00\n",
       "term                            0.00\n",
       "int_rate                        0.00\n",
       "installment                     0.00\n",
       "grade                           0.00\n",
       "sub_grade                       0.00\n",
       "emp_title                       5.78\n",
       "emp_length                      5.03\n",
       "home_ownership                  0.00\n",
       "annual_inc                      0.00\n",
       "verification_status             0.00\n",
       "issue_d                         0.00\n",
       "pymnt_plan                      0.00\n",
       "desc                           85.77\n",
       "purpose                         0.00\n",
       "title                           0.00\n",
       "zip_code                        0.00\n",
       "addr_state                      0.00\n",
       "dti                             0.00\n",
       "delinq_2yrs                     0.00\n",
       "earliest_cr_line                0.00\n",
       "inq_last_6mths                  0.00\n",
       "mths_since_last_delinq         51.38\n",
       "mths_since_last_record         84.67\n",
       "open_acc                        0.00\n",
       "pub_rec                         0.00\n",
       "revol_bal                       0.00\n",
       "revol_util                      0.05\n",
       "total_acc                       0.00\n",
       "initial_list_status             0.00\n",
       "out_prncp                       0.00\n",
       "out_prncp_inv                   0.00\n",
       "total_pymnt                     0.00\n",
       "total_pymnt_inv                 0.00\n",
       "total_rec_prncp                 0.00\n",
       "total_rec_int                   0.00\n",
       "total_rec_late_fee              0.00\n",
       "recoveries                      0.00\n",
       "collection_recovery_fee         0.00\n",
       "last_pymnt_d                    1.04\n",
       "last_pymnt_amnt                 0.00\n",
       "next_pymnt_d                   29.55\n",
       "last_credit_pull_d              0.01\n",
       "collections_12_mths_ex_med      0.01\n",
       "mths_since_last_major_derog    75.10\n",
       "policy_code                     0.00\n",
       "application_type                0.00\n",
       "annual_inc_joint               99.95\n",
       "dti_joint                      99.95\n",
       "verification_status_joint      99.95\n",
       "acc_now_delinq                  0.00\n",
       "tot_coll_amt                    7.86\n",
       "tot_cur_bal                     7.86\n",
       "open_acc_6m                    98.45\n",
       "open_il_6m                     98.45\n",
       "open_il_12m                    98.45\n",
       "open_il_24m                    98.45\n",
       "mths_since_rcnt_il             98.49\n",
       "total_bal_il                   98.45\n",
       "il_util                        98.64\n",
       "open_rv_12m                    98.45\n",
       "open_rv_24m                    98.45\n",
       "max_bal_bc                     98.45\n",
       "all_util                       98.45\n",
       "total_rev_hi_lim                7.86\n",
       "inq_fi                         98.45\n",
       "total_cu_tl                    98.45\n",
       "inq_last_12m                   98.45\n",
       "default_ind                     0.00\n",
       "dtype: float64"
      ]
     },
     "execution_count": 9,
     "metadata": {},
     "output_type": "execute_result"
    }
   ],
   "source": [
    "# finding percentage of null values in the dataset\n",
    "df.isnull().mean().round(4) * 100"
   ]
  },
  {
   "cell_type": "markdown",
   "metadata": {},
   "source": [
    "There is missing data in the dataset\n",
    "\n",
    "we have to do imputation process for NA values"
   ]
  },
  {
   "cell_type": "markdown",
   "metadata": {},
   "source": [
    "### Checking data class balance"
   ]
  },
  {
   "cell_type": "code",
   "execution_count": 10,
   "metadata": {},
   "outputs": [
    {
     "data": {
      "text/plain": [
       "0    809502\n",
       "1     46467\n",
       "Name: default_ind, dtype: int64"
      ]
     },
     "execution_count": 10,
     "metadata": {},
     "output_type": "execute_result"
    }
   ],
   "source": [
    "# Let's check data unbalance with respect with target value \"default_ind\"\n",
    "df['default_ind'].value_counts()"
   ]
  },
  {
   "cell_type": "code",
   "execution_count": 11,
   "metadata": {},
   "outputs": [
    {
     "data": {
      "text/plain": [
       "<Figure size 432x432 with 0 Axes>"
      ]
     },
     "execution_count": 11,
     "metadata": {},
     "output_type": "execute_result"
    },
    {
     "data": {
      "text/plain": [
       "Text(0.5, 1.0, 'Default bank loan Clients - target value - data unbalance\\n (Default = 0, Not Default = 1)')"
      ]
     },
     "execution_count": 11,
     "metadata": {},
     "output_type": "execute_result"
    },
    {
     "data": {
      "text/plain": [
       "<matplotlib.axes._subplots.AxesSubplot at 0x1cc432e9c48>"
      ]
     },
     "execution_count": 11,
     "metadata": {},
     "output_type": "execute_result"
    },
    {
     "data": {
      "image/png": "[encoded data removed]",
      "text/plain": [
       "<Figure size 432x432 with 1 Axes>"
      ]
     },
     "metadata": {
      "needs_background": "light"
     },
     "output_type": "display_data"
    }
   ],
   "source": [
    "temp = df[\"default_ind\"].value_counts()\n",
    "\n",
    "balance_df = pd.DataFrame({'default_ind': temp.index,'values': temp.values})\n",
    "plt.figure(figsize = (6,6))\n",
    "plt.title('Default bank loan Clients - target value - data unbalance\\n (Default = 0, Not Default = 1)')\n",
    "sns.set_color_codes(\"pastel\")\n",
    "sns.barplot(x = 'default_ind', y=\"values\", data=balance_df)\n",
    "locs, labels = plt.xticks()\n",
    "plt.show()"
   ]
  },
  {
   "cell_type": "markdown",
   "metadata": {},
   "source": [
    "A number of 46467 out of 855969 (or 5.4%) of clients will default. The data has a large unbalance with respect of the target value (default_ind)."
   ]
  },
  {
   "cell_type": "markdown",
   "metadata": {},
   "source": [
    "## Data exploration"
   ]
  },
  {
   "cell_type": "code",
   "execution_count": 12,
   "metadata": {},
   "outputs": [
    {
     "data": {
      "text/html": [
       "<div>\n",
       "<style scoped>\n",
       "    .dataframe tbody tr th:only-of-type {\n",
       "        vertical-align: middle;\n",
       "    }\n",
       "\n",
       "    .dataframe tbody tr th {\n",
       "        vertical-align: top;\n",
       "    }\n",
       "\n",
       "    .dataframe thead th {\n",
       "        text-align: right;\n",
       "    }\n",
       "</style>\n",
       "<table border=\"1\" class=\"dataframe\">\n",
       "  <thead>\n",
       "    <tr style=\"text-align: right;\">\n",
       "      <th></th>\n",
       "      <th>id</th>\n",
       "      <th>member_id</th>\n",
       "      <th>loan_amnt</th>\n",
       "      <th>funded_amnt</th>\n",
       "      <th>funded_amnt_inv</th>\n",
       "      <th>term</th>\n",
       "      <th>int_rate</th>\n",
       "      <th>installment</th>\n",
       "      <th>grade</th>\n",
       "      <th>sub_grade</th>\n",
       "      <th>...</th>\n",
       "      <th>il_util</th>\n",
       "      <th>open_rv_12m</th>\n",
       "      <th>open_rv_24m</th>\n",
       "      <th>max_bal_bc</th>\n",
       "      <th>all_util</th>\n",
       "      <th>total_rev_hi_lim</th>\n",
       "      <th>inq_fi</th>\n",
       "      <th>total_cu_tl</th>\n",
       "      <th>inq_last_12m</th>\n",
       "      <th>default_ind</th>\n",
       "    </tr>\n",
       "  </thead>\n",
       "  <tbody>\n",
       "    <tr>\n",
       "      <th>0</th>\n",
       "      <td>1077501</td>\n",
       "      <td>1296599</td>\n",
       "      <td>5000.0</td>\n",
       "      <td>5000.0</td>\n",
       "      <td>4975.0</td>\n",
       "      <td>36 months</td>\n",
       "      <td>10.65</td>\n",
       "      <td>162.87</td>\n",
       "      <td>B</td>\n",
       "      <td>B2</td>\n",
       "      <td>...</td>\n",
       "      <td>NaN</td>\n",
       "      <td>NaN</td>\n",
       "      <td>NaN</td>\n",
       "      <td>NaN</td>\n",
       "      <td>NaN</td>\n",
       "      <td>NaN</td>\n",
       "      <td>NaN</td>\n",
       "      <td>NaN</td>\n",
       "      <td>NaN</td>\n",
       "      <td>0</td>\n",
       "    </tr>\n",
       "    <tr>\n",
       "      <th>1</th>\n",
       "      <td>1077430</td>\n",
       "      <td>1314167</td>\n",
       "      <td>2500.0</td>\n",
       "      <td>2500.0</td>\n",
       "      <td>2500.0</td>\n",
       "      <td>60 months</td>\n",
       "      <td>15.27</td>\n",
       "      <td>59.83</td>\n",
       "      <td>C</td>\n",
       "      <td>C4</td>\n",
       "      <td>...</td>\n",
       "      <td>NaN</td>\n",
       "      <td>NaN</td>\n",
       "      <td>NaN</td>\n",
       "      <td>NaN</td>\n",
       "      <td>NaN</td>\n",
       "      <td>NaN</td>\n",
       "      <td>NaN</td>\n",
       "      <td>NaN</td>\n",
       "      <td>NaN</td>\n",
       "      <td>1</td>\n",
       "    </tr>\n",
       "    <tr>\n",
       "      <th>2</th>\n",
       "      <td>1077175</td>\n",
       "      <td>1313524</td>\n",
       "      <td>2400.0</td>\n",
       "      <td>2400.0</td>\n",
       "      <td>2400.0</td>\n",
       "      <td>36 months</td>\n",
       "      <td>15.96</td>\n",
       "      <td>84.33</td>\n",
       "      <td>C</td>\n",
       "      <td>C5</td>\n",
       "      <td>...</td>\n",
       "      <td>NaN</td>\n",
       "      <td>NaN</td>\n",
       "      <td>NaN</td>\n",
       "      <td>NaN</td>\n",
       "      <td>NaN</td>\n",
       "      <td>NaN</td>\n",
       "      <td>NaN</td>\n",
       "      <td>NaN</td>\n",
       "      <td>NaN</td>\n",
       "      <td>0</td>\n",
       "    </tr>\n",
       "    <tr>\n",
       "      <th>3</th>\n",
       "      <td>1076863</td>\n",
       "      <td>1277178</td>\n",
       "      <td>10000.0</td>\n",
       "      <td>10000.0</td>\n",
       "      <td>10000.0</td>\n",
       "      <td>36 months</td>\n",
       "      <td>13.49</td>\n",
       "      <td>339.31</td>\n",
       "      <td>C</td>\n",
       "      <td>C1</td>\n",
       "      <td>...</td>\n",
       "      <td>NaN</td>\n",
       "      <td>NaN</td>\n",
       "      <td>NaN</td>\n",
       "      <td>NaN</td>\n",
       "      <td>NaN</td>\n",
       "      <td>NaN</td>\n",
       "      <td>NaN</td>\n",
       "      <td>NaN</td>\n",
       "      <td>NaN</td>\n",
       "      <td>0</td>\n",
       "    </tr>\n",
       "    <tr>\n",
       "      <th>4</th>\n",
       "      <td>1075358</td>\n",
       "      <td>1311748</td>\n",
       "      <td>3000.0</td>\n",
       "      <td>3000.0</td>\n",
       "      <td>3000.0</td>\n",
       "      <td>60 months</td>\n",
       "      <td>12.69</td>\n",
       "      <td>67.79</td>\n",
       "      <td>B</td>\n",
       "      <td>B5</td>\n",
       "      <td>...</td>\n",
       "      <td>NaN</td>\n",
       "      <td>NaN</td>\n",
       "      <td>NaN</td>\n",
       "      <td>NaN</td>\n",
       "      <td>NaN</td>\n",
       "      <td>NaN</td>\n",
       "      <td>NaN</td>\n",
       "      <td>NaN</td>\n",
       "      <td>NaN</td>\n",
       "      <td>0</td>\n",
       "    </tr>\n",
       "  </tbody>\n",
       "</table>\n",
       "<p>5 rows × 73 columns</p>\n",
       "</div>"
      ],
      "text/plain": [
       "        id  member_id  loan_amnt  funded_amnt  funded_amnt_inv        term  \\\n",
       "0  1077501    1296599     5000.0       5000.0           4975.0   36 months   \n",
       "1  1077430    1314167     2500.0       2500.0           2500.0   60 months   \n",
       "2  1077175    1313524     2400.0       2400.0           2400.0   36 months   \n",
       "3  1076863    1277178    10000.0      10000.0          10000.0   36 months   \n",
       "4  1075358    1311748     3000.0       3000.0           3000.0   60 months   \n",
       "\n",
       "   int_rate  installment grade sub_grade  ... il_util open_rv_12m open_rv_24m  \\\n",
       "0     10.65       162.87     B        B2  ...     NaN         NaN         NaN   \n",
       "1     15.27        59.83     C        C4  ...     NaN         NaN         NaN   \n",
       "2     15.96        84.33     C        C5  ...     NaN         NaN         NaN   \n",
       "3     13.49       339.31     C        C1  ...     NaN         NaN         NaN   \n",
       "4     12.69        67.79     B        B5  ...     NaN         NaN         NaN   \n",
       "\n",
       "   max_bal_bc all_util total_rev_hi_lim inq_fi total_cu_tl inq_last_12m  \\\n",
       "0         NaN      NaN              NaN    NaN         NaN          NaN   \n",
       "1         NaN      NaN              NaN    NaN         NaN          NaN   \n",
       "2         NaN      NaN              NaN    NaN         NaN          NaN   \n",
       "3         NaN      NaN              NaN    NaN         NaN          NaN   \n",
       "4         NaN      NaN              NaN    NaN         NaN          NaN   \n",
       "\n",
       "  default_ind  \n",
       "0           0  \n",
       "1           1  \n",
       "2           0  \n",
       "3           0  \n",
       "4           0  \n",
       "\n",
       "[5 rows x 73 columns]"
      ]
     },
     "execution_count": 12,
     "metadata": {},
     "output_type": "execute_result"
    }
   ],
   "source": [
    "df.head()"
   ]
  },
  {
   "cell_type": "markdown",
   "metadata": {},
   "source": [
    "### infernce:\n",
    "we can drop id, member_id columns because each observation is unique "
   ]
  },
  {
   "cell_type": "markdown",
   "metadata": {},
   "source": [
    "### Checking each variable "
   ]
  },
  {
   "cell_type": "code",
   "execution_count": 13,
   "metadata": {},
   "outputs": [],
   "source": [
    "def inspect_data(data):\n",
    "    return pd.DataFrame({\"Data Type\":data.dtypes,\"No of Levels\":data.apply(lambda x: x.unique().shape[0],axis=0), \"Levels\":data.apply(lambda x: str(x.unique()),axis=0)})"
   ]
  },
  {
   "cell_type": "code",
   "execution_count": 14,
   "metadata": {},
   "outputs": [
    {
     "data": {
      "text/html": [
       "<div>\n",
       "<style scoped>\n",
       "    .dataframe tbody tr th:only-of-type {\n",
       "        vertical-align: middle;\n",
       "    }\n",
       "\n",
       "    .dataframe tbody tr th {\n",
       "        vertical-align: top;\n",
       "    }\n",
       "\n",
       "    .dataframe thead th {\n",
       "        text-align: right;\n",
       "    }\n",
       "</style>\n",
       "<table border=\"1\" class=\"dataframe\">\n",
       "  <thead>\n",
       "    <tr style=\"text-align: right;\">\n",
       "      <th></th>\n",
       "      <th>Data Type</th>\n",
       "      <th>No of Levels</th>\n",
       "      <th>Levels</th>\n",
       "    </tr>\n",
       "  </thead>\n",
       "  <tbody>\n",
       "    <tr>\n",
       "      <th>id</th>\n",
       "      <td>int64</td>\n",
       "      <td>855969</td>\n",
       "      <td>[1077501 1077430 1077175 ... 36271333 36490806...</td>\n",
       "    </tr>\n",
       "    <tr>\n",
       "      <th>member_id</th>\n",
       "      <td>int64</td>\n",
       "      <td>855969</td>\n",
       "      <td>[1296599 1314167 1313524 ... 38982739 39222577...</td>\n",
       "    </tr>\n",
       "    <tr>\n",
       "      <th>loan_amnt</th>\n",
       "      <td>float64</td>\n",
       "      <td>1368</td>\n",
       "      <td>[5000.0 2500.0 2400.0 ... 32825.0 32575.0 3417...</td>\n",
       "    </tr>\n",
       "    <tr>\n",
       "      <th>funded_amnt</th>\n",
       "      <td>float64</td>\n",
       "      <td>1368</td>\n",
       "      <td>[5000.0 2500.0 2400.0 ... 32825.0 32575.0 3417...</td>\n",
       "    </tr>\n",
       "    <tr>\n",
       "      <th>funded_amnt_inv</th>\n",
       "      <td>float64</td>\n",
       "      <td>8818</td>\n",
       "      <td>[4975.0 2500.0 2400.0 ... 33625.0 34125.0 3052...</td>\n",
       "    </tr>\n",
       "    <tr>\n",
       "      <th>term</th>\n",
       "      <td>object</td>\n",
       "      <td>2</td>\n",
       "      <td>[' 36 months' ' 60 months']</td>\n",
       "    </tr>\n",
       "    <tr>\n",
       "      <th>int_rate</th>\n",
       "      <td>float64</td>\n",
       "      <td>520</td>\n",
       "      <td>[10.65 15.27 15.96 13.49 12.69 7.9 18.64 21.28...</td>\n",
       "    </tr>\n",
       "    <tr>\n",
       "      <th>installment</th>\n",
       "      <td>float64</td>\n",
       "      <td>67349</td>\n",
       "      <td>[162.87 59.83 84.33 ... 685.27 185.06 237.86]</td>\n",
       "    </tr>\n",
       "    <tr>\n",
       "      <th>grade</th>\n",
       "      <td>object</td>\n",
       "      <td>7</td>\n",
       "      <td>['B' 'C' 'A' 'E' 'F' 'D' 'G']</td>\n",
       "    </tr>\n",
       "    <tr>\n",
       "      <th>sub_grade</th>\n",
       "      <td>object</td>\n",
       "      <td>35</td>\n",
       "      <td>['B2' 'C4' 'C5' 'C1' 'B5' 'A4' 'E1' 'F2' 'C3' ...</td>\n",
       "    </tr>\n",
       "    <tr>\n",
       "      <th>emp_title</th>\n",
       "      <td>object</td>\n",
       "      <td>290913</td>\n",
       "      <td>[nan 'Ryder' 'AIR RESOURCES BOARD' ... 'machin...</td>\n",
       "    </tr>\n",
       "    <tr>\n",
       "      <th>emp_length</th>\n",
       "      <td>object</td>\n",
       "      <td>12</td>\n",
       "      <td>['10+ years' '&lt; 1 year' '1 year' '3 years' '8 ...</td>\n",
       "    </tr>\n",
       "    <tr>\n",
       "      <th>home_ownership</th>\n",
       "      <td>object</td>\n",
       "      <td>6</td>\n",
       "      <td>['RENT' 'OWN' 'MORTGAGE' 'OTHER' 'NONE' 'ANY']</td>\n",
       "    </tr>\n",
       "    <tr>\n",
       "      <th>annual_inc</th>\n",
       "      <td>float64</td>\n",
       "      <td>48163</td>\n",
       "      <td>[24000.0 30000.0 12252.0 ... 76584.0 46759.0 6...</td>\n",
       "    </tr>\n",
       "    <tr>\n",
       "      <th>verification_status</th>\n",
       "      <td>object</td>\n",
       "      <td>3</td>\n",
       "      <td>['Verified' 'Source Verified' 'Not Verified']</td>\n",
       "    </tr>\n",
       "    <tr>\n",
       "      <th>issue_d</th>\n",
       "      <td>object</td>\n",
       "      <td>103</td>\n",
       "      <td>['Dec-2011' 'Nov-2011' 'Oct-2011' 'Sep-2011' '...</td>\n",
       "    </tr>\n",
       "    <tr>\n",
       "      <th>pymnt_plan</th>\n",
       "      <td>object</td>\n",
       "      <td>2</td>\n",
       "      <td>['n' 'y']</td>\n",
       "    </tr>\n",
       "    <tr>\n",
       "      <th>desc</th>\n",
       "      <td>object</td>\n",
       "      <td>120336</td>\n",
       "      <td>['  Borrower added on 12/22/11 &gt; I need to upg...</td>\n",
       "    </tr>\n",
       "    <tr>\n",
       "      <th>purpose</th>\n",
       "      <td>object</td>\n",
       "      <td>14</td>\n",
       "      <td>['credit_card' 'car' 'small_business' 'other' ...</td>\n",
       "    </tr>\n",
       "    <tr>\n",
       "      <th>title</th>\n",
       "      <td>object</td>\n",
       "      <td>60992</td>\n",
       "      <td>['Computer' 'bike' 'real estate business' ... ...</td>\n",
       "    </tr>\n",
       "    <tr>\n",
       "      <th>zip_code</th>\n",
       "      <td>object</td>\n",
       "      <td>931</td>\n",
       "      <td>['860xx' '309xx' '606xx' '917xx' '972xx' '852x...</td>\n",
       "    </tr>\n",
       "    <tr>\n",
       "      <th>addr_state</th>\n",
       "      <td>object</td>\n",
       "      <td>51</td>\n",
       "      <td>['AZ' 'GA' 'IL' 'CA' 'OR' 'NC' 'TX' 'VA' 'MO' ...</td>\n",
       "    </tr>\n",
       "    <tr>\n",
       "      <th>dti</th>\n",
       "      <td>float64</td>\n",
       "      <td>4074</td>\n",
       "      <td>[27.65 1.0 8.72 ... 45.77 55.1 59.19]</td>\n",
       "    </tr>\n",
       "    <tr>\n",
       "      <th>delinq_2yrs</th>\n",
       "      <td>float64</td>\n",
       "      <td>29</td>\n",
       "      <td>[0.0 2.0 3.0 1.0 4.0 6.0 5.0 8.0 7.0 9.0 11.0 ...</td>\n",
       "    </tr>\n",
       "    <tr>\n",
       "      <th>earliest_cr_line</th>\n",
       "      <td>object</td>\n",
       "      <td>697</td>\n",
       "      <td>['Jan-1985' 'Apr-1999' 'Nov-2001' 'Feb-1996' '...</td>\n",
       "    </tr>\n",
       "    <tr>\n",
       "      <th>inq_last_6mths</th>\n",
       "      <td>float64</td>\n",
       "      <td>9</td>\n",
       "      <td>[1.0 5.0 2.0 0.0 3.0 4.0 6.0 7.0 8.0]</td>\n",
       "    </tr>\n",
       "    <tr>\n",
       "      <th>mths_since_last_delinq</th>\n",
       "      <td>float64</td>\n",
       "      <td>156</td>\n",
       "      <td>[nan 35.0 38.0 61.0 8.0 20.0 18.0 68.0 45.0 48...</td>\n",
       "    </tr>\n",
       "    <tr>\n",
       "      <th>mths_since_last_record</th>\n",
       "      <td>float64</td>\n",
       "      <td>124</td>\n",
       "      <td>[nan 113.0 105.0 97.0 33.0 93.0 52.0 85.0 90.0...</td>\n",
       "    </tr>\n",
       "    <tr>\n",
       "      <th>open_acc</th>\n",
       "      <td>float64</td>\n",
       "      <td>77</td>\n",
       "      <td>[3.0 2.0 10.0 15.0 9.0 7.0 4.0 11.0 14.0 12.0 ...</td>\n",
       "    </tr>\n",
       "    <tr>\n",
       "      <th>pub_rec</th>\n",
       "      <td>float64</td>\n",
       "      <td>31</td>\n",
       "      <td>[0.0 1.0 2.0 3.0 4.0 5.0 6.0 9.0 8.0 7.0 11.0 ...</td>\n",
       "    </tr>\n",
       "    <tr>\n",
       "      <th>revol_bal</th>\n",
       "      <td>float64</td>\n",
       "      <td>72779</td>\n",
       "      <td>[13648.0 1687.0 2956.0 ... 57516.0 55667.0 756...</td>\n",
       "    </tr>\n",
       "    <tr>\n",
       "      <th>revol_util</th>\n",
       "      <td>float64</td>\n",
       "      <td>1339</td>\n",
       "      <td>[83.7 9.4 98.5 ... 123.3 121.4 184.6]</td>\n",
       "    </tr>\n",
       "    <tr>\n",
       "      <th>total_acc</th>\n",
       "      <td>float64</td>\n",
       "      <td>134</td>\n",
       "      <td>[9.0 4.0 10.0 37.0 38.0 12.0 11.0 13.0 3.0 23....</td>\n",
       "    </tr>\n",
       "    <tr>\n",
       "      <th>initial_list_status</th>\n",
       "      <td>object</td>\n",
       "      <td>2</td>\n",
       "      <td>['f' 'w']</td>\n",
       "    </tr>\n",
       "    <tr>\n",
       "      <th>out_prncp</th>\n",
       "      <td>float64</td>\n",
       "      <td>236739</td>\n",
       "      <td>[0.0 766.9 1889.15 ... 16157.04 11240.27 11155.5]</td>\n",
       "    </tr>\n",
       "    <tr>\n",
       "      <th>out_prncp_inv</th>\n",
       "      <td>float64</td>\n",
       "      <td>254328</td>\n",
       "      <td>[0.0 766.9 1889.15 ... 16157.04 11240.27 11155.5]</td>\n",
       "    </tr>\n",
       "    <tr>\n",
       "      <th>total_pymnt</th>\n",
       "      <td>float64</td>\n",
       "      <td>494607</td>\n",
       "      <td>[5861.07141425 1008.71 3003.65364445 ... 4158....</td>\n",
       "    </tr>\n",
       "    <tr>\n",
       "      <th>total_pymnt_inv</th>\n",
       "      <td>float64</td>\n",
       "      <td>494744</td>\n",
       "      <td>[5831.78 1008.71 3003.65 ... 3731.34 4158.02 4...</td>\n",
       "    </tr>\n",
       "    <tr>\n",
       "      <th>total_rec_prncp</th>\n",
       "      <td>float64</td>\n",
       "      <td>250385</td>\n",
       "      <td>[5000.0 456.46 2400.0 ... 1405.77 3278.48 1844.5]</td>\n",
       "    </tr>\n",
       "    <tr>\n",
       "      <th>total_rec_int</th>\n",
       "      <td>float64</td>\n",
       "      <td>317683</td>\n",
       "      <td>[861.07 435.17 603.65 ... 1000.41 990.28 2234.98]</td>\n",
       "    </tr>\n",
       "    <tr>\n",
       "      <th>total_rec_late_fee</th>\n",
       "      <td>float64</td>\n",
       "      <td>5386</td>\n",
       "      <td>[0.0 16.97 15.0 ... 23.81 32.07 32.23]</td>\n",
       "    </tr>\n",
       "    <tr>\n",
       "      <th>recoveries</th>\n",
       "      <td>float64</td>\n",
       "      <td>22627</td>\n",
       "      <td>[0.0 117.08 189.06 ... 21941.26 1413.48 5834.18]</td>\n",
       "    </tr>\n",
       "    <tr>\n",
       "      <th>collection_recovery_fee</th>\n",
       "      <td>float64</td>\n",
       "      <td>20529</td>\n",
       "      <td>[0.0 1.11 2.09 ... 571.1058 254.4264 1050.1524]</td>\n",
       "    </tr>\n",
       "    <tr>\n",
       "      <th>last_pymnt_d</th>\n",
       "      <td>object</td>\n",
       "      <td>98</td>\n",
       "      <td>['Jan-2015' 'Apr-2013' 'Jun-2014' 'Jan-2016' '...</td>\n",
       "    </tr>\n",
       "    <tr>\n",
       "      <th>last_pymnt_amnt</th>\n",
       "      <td>float64</td>\n",
       "      <td>230321</td>\n",
       "      <td>[171.62 119.66 649.91 ... 9439.34 4858.17 3655...</td>\n",
       "    </tr>\n",
       "    <tr>\n",
       "      <th>next_pymnt_d</th>\n",
       "      <td>object</td>\n",
       "      <td>4</td>\n",
       "      <td>[nan 'Feb-2016' 'Jan-2016' 'Mar-2016']</td>\n",
       "    </tr>\n",
       "    <tr>\n",
       "      <th>last_credit_pull_d</th>\n",
       "      <td>object</td>\n",
       "      <td>103</td>\n",
       "      <td>['Jan-2016' 'Sep-2013' 'Jan-2015' 'Sep-2015' '...</td>\n",
       "    </tr>\n",
       "    <tr>\n",
       "      <th>collections_12_mths_ex_med</th>\n",
       "      <td>float64</td>\n",
       "      <td>13</td>\n",
       "      <td>[0.0 nan 1.0 2.0 3.0 4.0 6.0 16.0 20.0 5.0 7.0...</td>\n",
       "    </tr>\n",
       "    <tr>\n",
       "      <th>mths_since_last_major_derog</th>\n",
       "      <td>float64</td>\n",
       "      <td>168</td>\n",
       "      <td>[nan 53.0 34.0 54.0 69.0 7.0 16.0 71.0 33.0 59...</td>\n",
       "    </tr>\n",
       "    <tr>\n",
       "      <th>policy_code</th>\n",
       "      <td>float64</td>\n",
       "      <td>1</td>\n",
       "      <td>[1.0]</td>\n",
       "    </tr>\n",
       "    <tr>\n",
       "      <th>application_type</th>\n",
       "      <td>object</td>\n",
       "      <td>2</td>\n",
       "      <td>['INDIVIDUAL' 'JOINT']</td>\n",
       "    </tr>\n",
       "    <tr>\n",
       "      <th>annual_inc_joint</th>\n",
       "      <td>float64</td>\n",
       "      <td>284</td>\n",
       "      <td>[nan 94348.32 182000.0 89000.0 95000.0 111000....</td>\n",
       "    </tr>\n",
       "    <tr>\n",
       "      <th>dti_joint</th>\n",
       "      <td>float64</td>\n",
       "      <td>391</td>\n",
       "      <td>[nan 17.07 6.44 25.91 23.99 17.51 13.83 24.88 ...</td>\n",
       "    </tr>\n",
       "    <tr>\n",
       "      <th>verification_status_joint</th>\n",
       "      <td>object</td>\n",
       "      <td>4</td>\n",
       "      <td>[nan 'Not Verified' 'Source Verified' 'Verified']</td>\n",
       "    </tr>\n",
       "    <tr>\n",
       "      <th>acc_now_delinq</th>\n",
       "      <td>float64</td>\n",
       "      <td>8</td>\n",
       "      <td>[0.0 1.0 2.0 3.0 5.0 4.0 6.0 14.0]</td>\n",
       "    </tr>\n",
       "    <tr>\n",
       "      <th>tot_coll_amt</th>\n",
       "      <td>float64</td>\n",
       "      <td>10139</td>\n",
       "      <td>[nan 0.0 15386.0 ... 13383.0 22129.0 8567.0]</td>\n",
       "    </tr>\n",
       "    <tr>\n",
       "      <th>tot_cur_bal</th>\n",
       "      <td>float64</td>\n",
       "      <td>322287</td>\n",
       "      <td>[nan 114834.0 14123.0 ... 211412.0 237002.0 14...</td>\n",
       "    </tr>\n",
       "    <tr>\n",
       "      <th>open_acc_6m</th>\n",
       "      <td>float64</td>\n",
       "      <td>12</td>\n",
       "      <td>[nan 1.0 2.0 0.0 3.0 4.0 5.0 6.0 7.0 12.0 8.0 ...</td>\n",
       "    </tr>\n",
       "    <tr>\n",
       "      <th>open_il_6m</th>\n",
       "      <td>float64</td>\n",
       "      <td>35</td>\n",
       "      <td>[nan 2.0 1.0 3.0 7.0 0.0 4.0 6.0 5.0 8.0 15.0 ...</td>\n",
       "    </tr>\n",
       "    <tr>\n",
       "      <th>open_il_12m</th>\n",
       "      <td>float64</td>\n",
       "      <td>13</td>\n",
       "      <td>[nan 0.0 1.0 4.0 2.0 3.0 5.0 6.0 8.0 7.0 9.0 1...</td>\n",
       "    </tr>\n",
       "    <tr>\n",
       "      <th>open_il_24m</th>\n",
       "      <td>float64</td>\n",
       "      <td>17</td>\n",
       "      <td>[nan 0.0 3.0 1.0 7.0 2.0 4.0 5.0 11.0 6.0 9.0 ...</td>\n",
       "    </tr>\n",
       "    <tr>\n",
       "      <th>mths_since_rcnt_il</th>\n",
       "      <td>float64</td>\n",
       "      <td>189</td>\n",
       "      <td>[nan 28.0 2.0 45.0 12.0 3.0 5.0 19.0 6.0 82.0 ...</td>\n",
       "    </tr>\n",
       "    <tr>\n",
       "      <th>total_bal_il</th>\n",
       "      <td>float64</td>\n",
       "      <td>11100</td>\n",
       "      <td>[nan 25447.0 22195.0 ... 19216.0 154224.0 3969...</td>\n",
       "    </tr>\n",
       "    <tr>\n",
       "      <th>il_util</th>\n",
       "      <td>float64</td>\n",
       "      <td>1196</td>\n",
       "      <td>[nan 5.6 70.9 ... 12.9 116.9 6.3]</td>\n",
       "    </tr>\n",
       "    <tr>\n",
       "      <th>open_rv_12m</th>\n",
       "      <td>float64</td>\n",
       "      <td>16</td>\n",
       "      <td>[nan 1.0 2.0 0.0 3.0 4.0 6.0 8.0 7.0 11.0 5.0 ...</td>\n",
       "    </tr>\n",
       "    <tr>\n",
       "      <th>open_rv_24m</th>\n",
       "      <td>float64</td>\n",
       "      <td>26</td>\n",
       "      <td>[nan 1.0 4.0 2.0 3.0 0.0 5.0 6.0 8.0 13.0 7.0 ...</td>\n",
       "    </tr>\n",
       "    <tr>\n",
       "      <th>max_bal_bc</th>\n",
       "      <td>float64</td>\n",
       "      <td>8115</td>\n",
       "      <td>[nan 19339.0 1271.0 ... 7313.0 26526.0 10205.0]</td>\n",
       "    </tr>\n",
       "    <tr>\n",
       "      <th>all_util</th>\n",
       "      <td>float64</td>\n",
       "      <td>1078</td>\n",
       "      <td>[nan 34.3 55.3 ... 111.9 119.1 7.4]</td>\n",
       "    </tr>\n",
       "    <tr>\n",
       "      <th>total_rev_hi_lim</th>\n",
       "      <td>float64</td>\n",
       "      <td>20794</td>\n",
       "      <td>[nan 59900.0 15100.0 ... 318000.0 44408.0 3281...</td>\n",
       "    </tr>\n",
       "    <tr>\n",
       "      <th>inq_fi</th>\n",
       "      <td>float64</td>\n",
       "      <td>17</td>\n",
       "      <td>[nan 0.0 2.0 3.0 1.0 4.0 5.0 9.0 6.0 7.0 8.0 1...</td>\n",
       "    </tr>\n",
       "    <tr>\n",
       "      <th>total_cu_tl</th>\n",
       "      <td>float64</td>\n",
       "      <td>28</td>\n",
       "      <td>[nan 7.0 1.0 2.0 0.0 5.0 4.0 9.0 3.0 17.0 18.0...</td>\n",
       "    </tr>\n",
       "    <tr>\n",
       "      <th>inq_last_12m</th>\n",
       "      <td>float64</td>\n",
       "      <td>28</td>\n",
       "      <td>[nan 0.0 2.0 6.0 3.0 1.0 8.0 12.0 15.0 5.0 4.0...</td>\n",
       "    </tr>\n",
       "    <tr>\n",
       "      <th>default_ind</th>\n",
       "      <td>int64</td>\n",
       "      <td>2</td>\n",
       "      <td>[0 1]</td>\n",
       "    </tr>\n",
       "  </tbody>\n",
       "</table>\n",
       "</div>"
      ],
      "text/plain": [
       "                            Data Type  No of Levels  \\\n",
       "id                              int64        855969   \n",
       "member_id                       int64        855969   \n",
       "loan_amnt                     float64          1368   \n",
       "funded_amnt                   float64          1368   \n",
       "funded_amnt_inv               float64          8818   \n",
       "term                           object             2   \n",
       "int_rate                      float64           520   \n",
       "installment                   float64         67349   \n",
       "grade                          object             7   \n",
       "sub_grade                      object            35   \n",
       "emp_title                      object        290913   \n",
       "emp_length                     object            12   \n",
       "home_ownership                 object             6   \n",
       "annual_inc                    float64         48163   \n",
       "verification_status            object             3   \n",
       "issue_d                        object           103   \n",
       "pymnt_plan                     object             2   \n",
       "desc                           object        120336   \n",
       "purpose                        object            14   \n",
       "title                          object         60992   \n",
       "zip_code                       object           931   \n",
       "addr_state                     object            51   \n",
       "dti                           float64          4074   \n",
       "delinq_2yrs                   float64            29   \n",
       "earliest_cr_line               object           697   \n",
       "inq_last_6mths                float64             9   \n",
       "mths_since_last_delinq        float64           156   \n",
       "mths_since_last_record        float64           124   \n",
       "open_acc                      float64            77   \n",
       "pub_rec                       float64            31   \n",
       "revol_bal                     float64         72779   \n",
       "revol_util                    float64          1339   \n",
       "total_acc                     float64           134   \n",
       "initial_list_status            object             2   \n",
       "out_prncp                     float64        236739   \n",
       "out_prncp_inv                 float64        254328   \n",
       "total_pymnt                   float64        494607   \n",
       "total_pymnt_inv               float64        494744   \n",
       "total_rec_prncp               float64        250385   \n",
       "total_rec_int                 float64        317683   \n",
       "total_rec_late_fee            float64          5386   \n",
       "recoveries                    float64         22627   \n",
       "collection_recovery_fee       float64         20529   \n",
       "last_pymnt_d                   object            98   \n",
       "last_pymnt_amnt               float64        230321   \n",
       "next_pymnt_d                   object             4   \n",
       "last_credit_pull_d             object           103   \n",
       "collections_12_mths_ex_med    float64            13   \n",
       "mths_since_last_major_derog   float64           168   \n",
       "policy_code                   float64             1   \n",
       "application_type               object             2   \n",
       "annual_inc_joint              float64           284   \n",
       "dti_joint                     float64           391   \n",
       "verification_status_joint      object             4   \n",
       "acc_now_delinq                float64             8   \n",
       "tot_coll_amt                  float64         10139   \n",
       "tot_cur_bal                   float64        322287   \n",
       "open_acc_6m                   float64            12   \n",
       "open_il_6m                    float64            35   \n",
       "open_il_12m                   float64            13   \n",
       "open_il_24m                   float64            17   \n",
       "mths_since_rcnt_il            float64           189   \n",
       "total_bal_il                  float64         11100   \n",
       "il_util                       float64          1196   \n",
       "open_rv_12m                   float64            16   \n",
       "open_rv_24m                   float64            26   \n",
       "max_bal_bc                    float64          8115   \n",
       "all_util                      float64          1078   \n",
       "total_rev_hi_lim              float64         20794   \n",
       "inq_fi                        float64            17   \n",
       "total_cu_tl                   float64            28   \n",
       "inq_last_12m                  float64            28   \n",
       "default_ind                     int64             2   \n",
       "\n",
       "                                                                        Levels  \n",
       "id                           [1077501 1077430 1077175 ... 36271333 36490806...  \n",
       "member_id                    [1296599 1314167 1313524 ... 38982739 39222577...  \n",
       "loan_amnt                    [5000.0 2500.0 2400.0 ... 32825.0 32575.0 3417...  \n",
       "funded_amnt                  [5000.0 2500.0 2400.0 ... 32825.0 32575.0 3417...  \n",
       "funded_amnt_inv              [4975.0 2500.0 2400.0 ... 33625.0 34125.0 3052...  \n",
       "term                                               [' 36 months' ' 60 months']  \n",
       "int_rate                     [10.65 15.27 15.96 13.49 12.69 7.9 18.64 21.28...  \n",
       "installment                      [162.87 59.83 84.33 ... 685.27 185.06 237.86]  \n",
       "grade                                            ['B' 'C' 'A' 'E' 'F' 'D' 'G']  \n",
       "sub_grade                    ['B2' 'C4' 'C5' 'C1' 'B5' 'A4' 'E1' 'F2' 'C3' ...  \n",
       "emp_title                    [nan 'Ryder' 'AIR RESOURCES BOARD' ... 'machin...  \n",
       "emp_length                   ['10+ years' '< 1 year' '1 year' '3 years' '8 ...  \n",
       "home_ownership                  ['RENT' 'OWN' 'MORTGAGE' 'OTHER' 'NONE' 'ANY']  \n",
       "annual_inc                   [24000.0 30000.0 12252.0 ... 76584.0 46759.0 6...  \n",
       "verification_status              ['Verified' 'Source Verified' 'Not Verified']  \n",
       "issue_d                      ['Dec-2011' 'Nov-2011' 'Oct-2011' 'Sep-2011' '...  \n",
       "pymnt_plan                                                           ['n' 'y']  \n",
       "desc                         ['  Borrower added on 12/22/11 > I need to upg...  \n",
       "purpose                      ['credit_card' 'car' 'small_business' 'other' ...  \n",
       "title                        ['Computer' 'bike' 'real estate business' ... ...  \n",
       "zip_code                     ['860xx' '309xx' '606xx' '917xx' '972xx' '852x...  \n",
       "addr_state                   ['AZ' 'GA' 'IL' 'CA' 'OR' 'NC' 'TX' 'VA' 'MO' ...  \n",
       "dti                                      [27.65 1.0 8.72 ... 45.77 55.1 59.19]  \n",
       "delinq_2yrs                  [0.0 2.0 3.0 1.0 4.0 6.0 5.0 8.0 7.0 9.0 11.0 ...  \n",
       "earliest_cr_line             ['Jan-1985' 'Apr-1999' 'Nov-2001' 'Feb-1996' '...  \n",
       "inq_last_6mths                           [1.0 5.0 2.0 0.0 3.0 4.0 6.0 7.0 8.0]  \n",
       "mths_since_last_delinq       [nan 35.0 38.0 61.0 8.0 20.0 18.0 68.0 45.0 48...  \n",
       "mths_since_last_record       [nan 113.0 105.0 97.0 33.0 93.0 52.0 85.0 90.0...  \n",
       "open_acc                     [3.0 2.0 10.0 15.0 9.0 7.0 4.0 11.0 14.0 12.0 ...  \n",
       "pub_rec                      [0.0 1.0 2.0 3.0 4.0 5.0 6.0 9.0 8.0 7.0 11.0 ...  \n",
       "revol_bal                    [13648.0 1687.0 2956.0 ... 57516.0 55667.0 756...  \n",
       "revol_util                               [83.7 9.4 98.5 ... 123.3 121.4 184.6]  \n",
       "total_acc                    [9.0 4.0 10.0 37.0 38.0 12.0 11.0 13.0 3.0 23....  \n",
       "initial_list_status                                                  ['f' 'w']  \n",
       "out_prncp                    [0.0 766.9 1889.15 ... 16157.04 11240.27 11155.5]  \n",
       "out_prncp_inv                [0.0 766.9 1889.15 ... 16157.04 11240.27 11155.5]  \n",
       "total_pymnt                  [5861.07141425 1008.71 3003.65364445 ... 4158....  \n",
       "total_pymnt_inv              [5831.78 1008.71 3003.65 ... 3731.34 4158.02 4...  \n",
       "total_rec_prncp              [5000.0 456.46 2400.0 ... 1405.77 3278.48 1844.5]  \n",
       "total_rec_int                [861.07 435.17 603.65 ... 1000.41 990.28 2234.98]  \n",
       "total_rec_late_fee                      [0.0 16.97 15.0 ... 23.81 32.07 32.23]  \n",
       "recoveries                    [0.0 117.08 189.06 ... 21941.26 1413.48 5834.18]  \n",
       "collection_recovery_fee        [0.0 1.11 2.09 ... 571.1058 254.4264 1050.1524]  \n",
       "last_pymnt_d                 ['Jan-2015' 'Apr-2013' 'Jun-2014' 'Jan-2016' '...  \n",
       "last_pymnt_amnt              [171.62 119.66 649.91 ... 9439.34 4858.17 3655...  \n",
       "next_pymnt_d                            [nan 'Feb-2016' 'Jan-2016' 'Mar-2016']  \n",
       "last_credit_pull_d           ['Jan-2016' 'Sep-2013' 'Jan-2015' 'Sep-2015' '...  \n",
       "collections_12_mths_ex_med   [0.0 nan 1.0 2.0 3.0 4.0 6.0 16.0 20.0 5.0 7.0...  \n",
       "mths_since_last_major_derog  [nan 53.0 34.0 54.0 69.0 7.0 16.0 71.0 33.0 59...  \n",
       "policy_code                                                              [1.0]  \n",
       "application_type                                        ['INDIVIDUAL' 'JOINT']  \n",
       "annual_inc_joint             [nan 94348.32 182000.0 89000.0 95000.0 111000....  \n",
       "dti_joint                    [nan 17.07 6.44 25.91 23.99 17.51 13.83 24.88 ...  \n",
       "verification_status_joint    [nan 'Not Verified' 'Source Verified' 'Verified']  \n",
       "acc_now_delinq                              [0.0 1.0 2.0 3.0 5.0 4.0 6.0 14.0]  \n",
       "tot_coll_amt                      [nan 0.0 15386.0 ... 13383.0 22129.0 8567.0]  \n",
       "tot_cur_bal                  [nan 114834.0 14123.0 ... 211412.0 237002.0 14...  \n",
       "open_acc_6m                  [nan 1.0 2.0 0.0 3.0 4.0 5.0 6.0 7.0 12.0 8.0 ...  \n",
       "open_il_6m                   [nan 2.0 1.0 3.0 7.0 0.0 4.0 6.0 5.0 8.0 15.0 ...  \n",
       "open_il_12m                  [nan 0.0 1.0 4.0 2.0 3.0 5.0 6.0 8.0 7.0 9.0 1...  \n",
       "open_il_24m                  [nan 0.0 3.0 1.0 7.0 2.0 4.0 5.0 11.0 6.0 9.0 ...  \n",
       "mths_since_rcnt_il           [nan 28.0 2.0 45.0 12.0 3.0 5.0 19.0 6.0 82.0 ...  \n",
       "total_bal_il                 [nan 25447.0 22195.0 ... 19216.0 154224.0 3969...  \n",
       "il_util                                      [nan 5.6 70.9 ... 12.9 116.9 6.3]  \n",
       "open_rv_12m                  [nan 1.0 2.0 0.0 3.0 4.0 6.0 8.0 7.0 11.0 5.0 ...  \n",
       "open_rv_24m                  [nan 1.0 4.0 2.0 3.0 0.0 5.0 6.0 8.0 13.0 7.0 ...  \n",
       "max_bal_bc                     [nan 19339.0 1271.0 ... 7313.0 26526.0 10205.0]  \n",
       "all_util                                   [nan 34.3 55.3 ... 111.9 119.1 7.4]  \n",
       "total_rev_hi_lim             [nan 59900.0 15100.0 ... 318000.0 44408.0 3281...  \n",
       "inq_fi                       [nan 0.0 2.0 3.0 1.0 4.0 5.0 9.0 6.0 7.0 8.0 1...  \n",
       "total_cu_tl                  [nan 7.0 1.0 2.0 0.0 5.0 4.0 9.0 3.0 17.0 18.0...  \n",
       "inq_last_12m                 [nan 0.0 2.0 6.0 3.0 1.0 8.0 12.0 15.0 5.0 4.0...  \n",
       "default_ind                                                              [0 1]  "
      ]
     },
     "execution_count": 14,
     "metadata": {},
     "output_type": "execute_result"
    }
   ],
   "source": [
    "inspect_data(df)"
   ]
  },
  {
   "cell_type": "markdown",
   "metadata": {},
   "source": [
    "### here, we are analysing each variable one by one based on above information"
   ]
  },
  {
   "cell_type": "markdown",
   "metadata": {},
   "source": [
    "issue_d, we can drop. it is datetime variable\n",
    "\n",
    "id, it is unique to all so it is not providing any information\n",
    "\n",
    "member_id, like ID column we can drop this variable also\n",
    "\n",
    "emp_title, it has 235313 unique values and also datatype is object(string). \n",
    "\n",
    "we cann't do dummification for this variable so we can drop\n",
    "\n",
    "issue_d.1, we can drop this variable because it is datetime datatype\n",
    "\n",
    "title, we can drop this because it has 60991 levels and also it is object so we cann't create 60991 levles\n",
    "\n",
    "zip_code, it has 901 levels so we can drop\n",
    "\n",
    "addr_state, it has 50 levels. it is our wish. here i will drop this variable\n",
    "\n",
    "as per domain perspective adress cann't impact on this problem\n",
    "\n",
    "earliest_cr_line, it is datetime datatype\n",
    "\n",
    "last_pymnt_d, it is datetime datatype\n",
    "\n",
    "last_credit_pull_d, it is datetime and has 108 levels\n",
    "\n",
    "policy_code, it has only 1 level that meand it is common to all customers so it is not providing any information\n",
    "\n",
    "application_type, it also has 1 level"
   ]
  },
  {
   "cell_type": "markdown",
   "metadata": {},
   "source": [
    "##### Note: so, we can drop above all columns"
   ]
  },
  {
   "cell_type": "markdown",
   "metadata": {},
   "source": [
    "term, it is categorical variable. it has 2 levels\n",
    "\n",
    "grade, it is categorical variable. it has 7 levels\n",
    "\n",
    "subgrade, it has 35 levels\n",
    "\n",
    "emp_length, it is object variable. here we can consider continuous variable or ordinal variable\n",
    "\n",
    "if we apply strip function on this variable, it will become numerical variable or \n",
    "second case taking object then do dummification\n",
    "\n",
    "home_ownership, this is categorical variable. it has 8 levels we should do dummification for this variable\n",
    "\n",
    "verification_status, it has 3 levels\n",
    "\n",
    "pymnt_plan, it has 2 levels\n",
    "\n",
    "Purpose, it has 14 levles\n",
    "\n",
    "inq_last_6mths, it has 9 levels. we should anlayse this variable\n",
    "\n",
    "initial_list_status, it has 2 levels\n",
    "\n",
    "next_pymnt_d, it is datetime datatype but it has only 4 levels so we can do dummification for this variable"
   ]
  },
  {
   "cell_type": "markdown",
   "metadata": {},
   "source": [
    "##### Note: above data is providing information about categories in object variables"
   ]
  },
  {
   "cell_type": "markdown",
   "metadata": {},
   "source": [
    "## Bivariante analysis"
   ]
  },
  {
   "cell_type": "markdown",
   "metadata": {},
   "source": [
    "### Feature correlation"
   ]
  },
  {
   "cell_type": "code",
   "execution_count": 16,
   "metadata": {},
   "outputs": [
    {
     "data": {
      "text/plain": [
       "Index(['id', 'member_id', 'loan_amnt', 'funded_amnt', 'funded_amnt_inv',\n",
       "       'int_rate', 'installment', 'annual_inc', 'dti', 'delinq_2yrs',\n",
       "       'inq_last_6mths', 'mths_since_last_delinq', 'mths_since_last_record',\n",
       "       'open_acc', 'pub_rec', 'revol_bal', 'revol_util', 'total_acc',\n",
       "       'out_prncp', 'out_prncp_inv', 'total_pymnt', 'total_pymnt_inv',\n",
       "       'total_rec_prncp', 'total_rec_int', 'total_rec_late_fee', 'recoveries',\n",
       "       'collection_recovery_fee', 'last_pymnt_amnt',\n",
       "       'collections_12_mths_ex_med', 'mths_since_last_major_derog',\n",
       "       'policy_code', 'annual_inc_joint', 'dti_joint', 'acc_now_delinq',\n",
       "       'tot_coll_amt', 'tot_cur_bal', 'open_acc_6m', 'open_il_6m',\n",
       "       'open_il_12m', 'open_il_24m', 'mths_since_rcnt_il', 'total_bal_il',\n",
       "       'il_util', 'open_rv_12m', 'open_rv_24m', 'max_bal_bc', 'all_util',\n",
       "       'total_rev_hi_lim', 'inq_fi', 'total_cu_tl', 'inq_last_12m',\n",
       "       'default_ind'],\n",
       "      dtype='object')"
      ]
     },
     "execution_count": 16,
     "metadata": {},
     "output_type": "execute_result"
    }
   ],
   "source": [
    "numerical_feats"
   ]
  },
  {
   "cell_type": "code",
   "execution_count": 17,
   "metadata": {},
   "outputs": [
    {
     "data": {
      "text/plain": [
       "<Figure size 864x864 with 0 Axes>"
      ]
     },
     "execution_count": 17,
     "metadata": {},
     "output_type": "execute_result"
    },
    {
     "data": {
      "text/plain": [
       "<matplotlib.axes._subplots.AxesSubplot at 0x1cc3afafe48>"
      ]
     },
     "execution_count": 17,
     "metadata": {},
     "output_type": "execute_result"
    },
    {
     "data": {
      "image/png": "[encoded data removed]",
      "text/plain": [
       "<Figure size 864x864 with 2 Axes>"
      ]
     },
     "metadata": {
      "needs_background": "light"
     },
     "output_type": "display_data"
    }
   ],
   "source": [
    "plt.figure(figsize=(12,12))\n",
    "corr = df[numerical_feats].corr()\n",
    "kot = corr[corr >= 0.85]\n",
    "sns.heatmap(kot, annot= True, cmap='Greens')"
   ]
  },
  {
   "cell_type": "markdown",
   "metadata": {},
   "source": [
    "### Inference:\n",
    "\n",
    "High correlation between these variables\n",
    "funded_amnt_inv vs funded_amnt = 1\n",
    "\n",
    "installement vs funded_amnt = 0.95\n",
    "\n",
    "installement vs funded_amnt_inv = 0.95\n",
    "\n",
    "loan_amnt vs funded_amnt = 1\n",
    "\n",
    "loan_amnt vs funded_amnt_inv = 1\n",
    "\n",
    "loan_amnt vs installement = 0.95\n",
    "\n",
    "recoveries vs collection_recovery_fee = 0.92\n",
    "\n",
    "total_pymnt_inv vs total_pymnt = 1\n",
    "\n",
    "total_rec_prncp vs total_pymnt = 0.96\n",
    "\n",
    "total_rec_prncp vs total_pymnt_inv = 0.96\n"
   ]
  },
  {
   "cell_type": "markdown",
   "metadata": {},
   "source": [
    "###### we can drop these variables based on multicollinearity\n",
    "['funded_amnt_inv', 'installment', 'loan_amnt', 'recoveries', 'total_pymnt_inv', 'total_rec_prncp']"
   ]
  },
  {
   "cell_type": "markdown",
   "metadata": {},
   "source": [
    "## Categorical vs categorical (X and Y)"
   ]
  },
  {
   "cell_type": "markdown",
   "metadata": {},
   "source": [
    "### Chi-square test"
   ]
  },
  {
   "cell_type": "code",
   "execution_count": 18,
   "metadata": {},
   "outputs": [
    {
     "data": {
      "text/plain": [
       "Index(['term', 'grade', 'sub_grade', 'emp_title', 'emp_length',\n",
       "       'home_ownership', 'verification_status', 'issue_d', 'pymnt_plan',\n",
       "       'desc', 'purpose', 'title', 'zip_code', 'addr_state',\n",
       "       'earliest_cr_line', 'initial_list_status', 'last_pymnt_d',\n",
       "       'next_pymnt_d', 'last_credit_pull_d', 'application_type',\n",
       "       'verification_status_joint'],\n",
       "      dtype='object')"
      ]
     },
     "execution_count": 18,
     "metadata": {},
     "output_type": "execute_result"
    }
   ],
   "source": [
    "categorical_feats"
   ]
  },
  {
   "cell_type": "code",
   "execution_count": 19,
   "metadata": {},
   "outputs": [],
   "source": [
    "# creating function for chisquare test\n",
    "def chi_square(df_name, columns, target):\n",
    "    import pandas as pd\n",
    "    from scipy.stats import chi2_contingency\n",
    "    for col in columns:\n",
    "        table = pd.crosstab(df_name[col], target, margins=False)\n",
    "        chi2_stat, p_val, dof, ex = chi2_contingency(table)\n",
    "        if p_val <= 0.05:\n",
    "            print(f\"There is a relationship between {col} and {target.name} variable\")\n",
    "        else:\n",
    "            print(f\"There is no relationship between {col} and {target.name} variables\")"
   ]
  },
  {
   "cell_type": "code",
   "execution_count": 20,
   "metadata": {},
   "outputs": [
    {
     "name": "stdout",
     "output_type": "stream",
     "text": [
      "There is a relationship between term and default_ind variable\n",
      "There is a relationship between grade and default_ind variable\n",
      "There is a relationship between sub_grade and default_ind variable\n",
      "There is a relationship between emp_title and default_ind variable\n",
      "There is a relationship between emp_length and default_ind variable\n",
      "There is a relationship between home_ownership and default_ind variable\n",
      "There is a relationship between verification_status and default_ind variable\n",
      "There is a relationship between issue_d and default_ind variable\n",
      "There is no relationship between pymnt_plan and default_ind variables\n",
      "There is no relationship between desc and default_ind variables\n",
      "There is a relationship between purpose and default_ind variable\n",
      "There is a relationship between title and default_ind variable\n",
      "There is a relationship between zip_code and default_ind variable\n",
      "There is a relationship between addr_state and default_ind variable\n",
      "There is a relationship between earliest_cr_line and default_ind variable\n",
      "There is a relationship between initial_list_status and default_ind variable\n",
      "There is a relationship between last_pymnt_d and default_ind variable\n",
      "There is a relationship between next_pymnt_d and default_ind variable\n",
      "There is a relationship between last_credit_pull_d and default_ind variable\n",
      "There is a relationship between application_type and default_ind variable\n",
      "There is no relationship between verification_status_joint and default_ind variables\n"
     ]
    }
   ],
   "source": [
    "# Calling chi_square function  for categorical \n",
    "df_name = df\n",
    "columns = categorical_feats\n",
    "target = df['default_ind']\n",
    "chi_square(df_name, columns, target)"
   ]
  },
  {
   "cell_type": "markdown",
   "metadata": {},
   "source": [
    "##### Inference:\n",
    "\n",
    "based on chi-square test, there is no relation between pymnt_plan and target variable \n",
    "\n",
    "-> no relationship between desc and default_ind\n",
    "\n",
    "-> no relationship between verification_status_joint and default_ind\n",
    "\n",
    "so we can drop this variables"
   ]
  },
  {
   "cell_type": "markdown",
   "metadata": {},
   "source": [
    "# Preprocessing"
   ]
  },
  {
   "cell_type": "markdown",
   "metadata": {},
   "source": [
    "### Splitting data into train and test"
   ]
  },
  {
   "cell_type": "code",
   "execution_count": 21,
   "metadata": {},
   "outputs": [
    {
     "data": {
      "text/plain": [
       "0    Dec-2011\n",
       "1    Dec-2011\n",
       "2    Dec-2011\n",
       "3    Dec-2011\n",
       "4    Dec-2011\n",
       "Name: issue_d, dtype: object"
      ]
     },
     "execution_count": 21,
     "metadata": {},
     "output_type": "execute_result"
    }
   ],
   "source": [
    "# checking issue_d column format\n",
    "df['issue_d'].head()\n",
    "\n",
    "# it is in string format. we should convert string format to datetime format"
   ]
  },
  {
   "cell_type": "code",
   "execution_count": 22,
   "metadata": {},
   "outputs": [
    {
     "data": {
      "text/plain": [
       "0   2011-12-01\n",
       "1   2011-12-01\n",
       "2   2011-12-01\n",
       "3   2011-12-01\n",
       "4   2011-12-01\n",
       "Name: issue_d, dtype: datetime64[ns]"
      ]
     },
     "execution_count": 22,
     "metadata": {},
     "output_type": "execute_result"
    }
   ],
   "source": [
    "# converting string into datetime format\n",
    "df['issue_d'] = pd.to_datetime(df['issue_d'])\n",
    "df['issue_d'].head()"
   ]
  },
  {
   "cell_type": "code",
   "execution_count": 23,
   "metadata": {},
   "outputs": [],
   "source": [
    "# setting index with issue_d column then sortng the data by index\n",
    "df = df.set_index(df['issue_d'])\n",
    "df = df.sort_index()"
   ]
  },
  {
   "cell_type": "code",
   "execution_count": 24,
   "metadata": {},
   "outputs": [
    {
     "data": {
      "text/html": [
       "<div>\n",
       "<style scoped>\n",
       "    .dataframe tbody tr th:only-of-type {\n",
       "        vertical-align: middle;\n",
       "    }\n",
       "\n",
       "    .dataframe tbody tr th {\n",
       "        vertical-align: top;\n",
       "    }\n",
       "\n",
       "    .dataframe thead th {\n",
       "        text-align: right;\n",
       "    }\n",
       "</style>\n",
       "<table border=\"1\" class=\"dataframe\">\n",
       "  <thead>\n",
       "    <tr style=\"text-align: right;\">\n",
       "      <th></th>\n",
       "      <th>id</th>\n",
       "      <th>member_id</th>\n",
       "      <th>loan_amnt</th>\n",
       "      <th>funded_amnt</th>\n",
       "      <th>funded_amnt_inv</th>\n",
       "      <th>term</th>\n",
       "      <th>int_rate</th>\n",
       "      <th>installment</th>\n",
       "      <th>grade</th>\n",
       "      <th>sub_grade</th>\n",
       "      <th>...</th>\n",
       "      <th>il_util</th>\n",
       "      <th>open_rv_12m</th>\n",
       "      <th>open_rv_24m</th>\n",
       "      <th>max_bal_bc</th>\n",
       "      <th>all_util</th>\n",
       "      <th>total_rev_hi_lim</th>\n",
       "      <th>inq_fi</th>\n",
       "      <th>total_cu_tl</th>\n",
       "      <th>inq_last_12m</th>\n",
       "      <th>default_ind</th>\n",
       "    </tr>\n",
       "    <tr>\n",
       "      <th>issue_d</th>\n",
       "      <th></th>\n",
       "      <th></th>\n",
       "      <th></th>\n",
       "      <th></th>\n",
       "      <th></th>\n",
       "      <th></th>\n",
       "      <th></th>\n",
       "      <th></th>\n",
       "      <th></th>\n",
       "      <th></th>\n",
       "      <th></th>\n",
       "      <th></th>\n",
       "      <th></th>\n",
       "      <th></th>\n",
       "      <th></th>\n",
       "      <th></th>\n",
       "      <th></th>\n",
       "      <th></th>\n",
       "      <th></th>\n",
       "      <th></th>\n",
       "      <th></th>\n",
       "    </tr>\n",
       "  </thead>\n",
       "  <tbody>\n",
       "    <tr>\n",
       "      <th>2007-06-01</th>\n",
       "      <td>87023</td>\n",
       "      <td>86999</td>\n",
       "      <td>7500.0</td>\n",
       "      <td>7500.0</td>\n",
       "      <td>800.0</td>\n",
       "      <td>36 months</td>\n",
       "      <td>13.75</td>\n",
       "      <td>255.43</td>\n",
       "      <td>E</td>\n",
       "      <td>E2</td>\n",
       "      <td>...</td>\n",
       "      <td>NaN</td>\n",
       "      <td>NaN</td>\n",
       "      <td>NaN</td>\n",
       "      <td>NaN</td>\n",
       "      <td>NaN</td>\n",
       "      <td>NaN</td>\n",
       "      <td>NaN</td>\n",
       "      <td>NaN</td>\n",
       "      <td>NaN</td>\n",
       "      <td>0</td>\n",
       "    </tr>\n",
       "    <tr>\n",
       "      <th>2007-07-01</th>\n",
       "      <td>90966</td>\n",
       "      <td>90962</td>\n",
       "      <td>5000.0</td>\n",
       "      <td>5000.0</td>\n",
       "      <td>4150.0</td>\n",
       "      <td>36 months</td>\n",
       "      <td>7.43</td>\n",
       "      <td>155.38</td>\n",
       "      <td>A</td>\n",
       "      <td>A2</td>\n",
       "      <td>...</td>\n",
       "      <td>NaN</td>\n",
       "      <td>NaN</td>\n",
       "      <td>NaN</td>\n",
       "      <td>NaN</td>\n",
       "      <td>NaN</td>\n",
       "      <td>NaN</td>\n",
       "      <td>NaN</td>\n",
       "      <td>NaN</td>\n",
       "      <td>NaN</td>\n",
       "      <td>0</td>\n",
       "    </tr>\n",
       "    <tr>\n",
       "      <th>2007-07-01</th>\n",
       "      <td>99009</td>\n",
       "      <td>98991</td>\n",
       "      <td>5750.0</td>\n",
       "      <td>5750.0</td>\n",
       "      <td>3675.0</td>\n",
       "      <td>36 months</td>\n",
       "      <td>7.43</td>\n",
       "      <td>178.69</td>\n",
       "      <td>A</td>\n",
       "      <td>A2</td>\n",
       "      <td>...</td>\n",
       "      <td>NaN</td>\n",
       "      <td>NaN</td>\n",
       "      <td>NaN</td>\n",
       "      <td>NaN</td>\n",
       "      <td>NaN</td>\n",
       "      <td>NaN</td>\n",
       "      <td>NaN</td>\n",
       "      <td>NaN</td>\n",
       "      <td>NaN</td>\n",
       "      <td>0</td>\n",
       "    </tr>\n",
       "    <tr>\n",
       "      <th>2007-07-01</th>\n",
       "      <td>112245</td>\n",
       "      <td>112227</td>\n",
       "      <td>5000.0</td>\n",
       "      <td>5000.0</td>\n",
       "      <td>3975.0</td>\n",
       "      <td>36 months</td>\n",
       "      <td>7.43</td>\n",
       "      <td>155.38</td>\n",
       "      <td>A</td>\n",
       "      <td>A2</td>\n",
       "      <td>...</td>\n",
       "      <td>NaN</td>\n",
       "      <td>NaN</td>\n",
       "      <td>NaN</td>\n",
       "      <td>NaN</td>\n",
       "      <td>NaN</td>\n",
       "      <td>NaN</td>\n",
       "      <td>NaN</td>\n",
       "      <td>NaN</td>\n",
       "      <td>NaN</td>\n",
       "      <td>0</td>\n",
       "    </tr>\n",
       "    <tr>\n",
       "      <th>2007-07-01</th>\n",
       "      <td>109355</td>\n",
       "      <td>109346</td>\n",
       "      <td>1200.0</td>\n",
       "      <td>1200.0</td>\n",
       "      <td>0.0</td>\n",
       "      <td>36 months</td>\n",
       "      <td>11.54</td>\n",
       "      <td>39.60</td>\n",
       "      <td>C</td>\n",
       "      <td>C5</td>\n",
       "      <td>...</td>\n",
       "      <td>NaN</td>\n",
       "      <td>NaN</td>\n",
       "      <td>NaN</td>\n",
       "      <td>NaN</td>\n",
       "      <td>NaN</td>\n",
       "      <td>NaN</td>\n",
       "      <td>NaN</td>\n",
       "      <td>NaN</td>\n",
       "      <td>NaN</td>\n",
       "      <td>0</td>\n",
       "    </tr>\n",
       "  </tbody>\n",
       "</table>\n",
       "<p>5 rows × 73 columns</p>\n",
       "</div>"
      ],
      "text/plain": [
       "                id  member_id  loan_amnt  funded_amnt  funded_amnt_inv  \\\n",
       "issue_d                                                                  \n",
       "2007-06-01   87023      86999     7500.0       7500.0            800.0   \n",
       "2007-07-01   90966      90962     5000.0       5000.0           4150.0   \n",
       "2007-07-01   99009      98991     5750.0       5750.0           3675.0   \n",
       "2007-07-01  112245     112227     5000.0       5000.0           3975.0   \n",
       "2007-07-01  109355     109346     1200.0       1200.0              0.0   \n",
       "\n",
       "                  term  int_rate  installment grade sub_grade  ... il_util  \\\n",
       "issue_d                                                        ...           \n",
       "2007-06-01   36 months     13.75       255.43     E        E2  ...     NaN   \n",
       "2007-07-01   36 months      7.43       155.38     A        A2  ...     NaN   \n",
       "2007-07-01   36 months      7.43       178.69     A        A2  ...     NaN   \n",
       "2007-07-01   36 months      7.43       155.38     A        A2  ...     NaN   \n",
       "2007-07-01   36 months     11.54        39.60     C        C5  ...     NaN   \n",
       "\n",
       "           open_rv_12m open_rv_24m  max_bal_bc all_util total_rev_hi_lim  \\\n",
       "issue_d                                                                    \n",
       "2007-06-01         NaN         NaN         NaN      NaN              NaN   \n",
       "2007-07-01         NaN         NaN         NaN      NaN              NaN   \n",
       "2007-07-01         NaN         NaN         NaN      NaN              NaN   \n",
       "2007-07-01         NaN         NaN         NaN      NaN              NaN   \n",
       "2007-07-01         NaN         NaN         NaN      NaN              NaN   \n",
       "\n",
       "           inq_fi total_cu_tl inq_last_12m default_ind  \n",
       "issue_d                                                 \n",
       "2007-06-01    NaN         NaN          NaN           0  \n",
       "2007-07-01    NaN         NaN          NaN           0  \n",
       "2007-07-01    NaN         NaN          NaN           0  \n",
       "2007-07-01    NaN         NaN          NaN           0  \n",
       "2007-07-01    NaN         NaN          NaN           0  \n",
       "\n",
       "[5 rows x 73 columns]"
      ]
     },
     "execution_count": 24,
     "metadata": {},
     "output_type": "execute_result"
    }
   ],
   "source": [
    "# Checking index column in dataset\n",
    "df.head()"
   ]
  },
  {
   "cell_type": "code",
   "execution_count": 25,
   "metadata": {},
   "outputs": [
    {
     "name": "stdout",
     "output_type": "stream",
     "text": [
      "(598978, 73)\n",
      "(256991, 73)\n"
     ]
    }
   ],
   "source": [
    "# create train and test partition\n",
    "train = df['2007-06-01':'2015-05-01']\n",
    "test = df['2015-06-01':'2015-12-01']\n",
    "print(train.shape)\n",
    "print(test.shape)"
   ]
  },
  {
   "cell_type": "markdown",
   "metadata": {},
   "source": [
    "### dropping NA value columns"
   ]
  },
  {
   "cell_type": "code",
   "execution_count": 26,
   "metadata": {},
   "outputs": [
    {
     "data": {
      "text/plain": [
       "id                               0.00\n",
       "member_id                        0.00\n",
       "loan_amnt                        0.00\n",
       "funded_amnt                      0.00\n",
       "funded_amnt_inv                  0.00\n",
       "term                             0.00\n",
       "int_rate                         0.00\n",
       "installment                      0.00\n",
       "grade                            0.00\n",
       "sub_grade                        0.00\n",
       "emp_title                        5.75\n",
       "emp_length                       4.69\n",
       "home_ownership                   0.00\n",
       "annual_inc                       0.00\n",
       "verification_status              0.00\n",
       "issue_d                          0.00\n",
       "pymnt_plan                       0.00\n",
       "desc                            79.67\n",
       "purpose                          0.00\n",
       "title                            0.00\n",
       "zip_code                         0.00\n",
       "addr_state                       0.00\n",
       "dti                              0.00\n",
       "delinq_2yrs                      0.00\n",
       "earliest_cr_line                 0.00\n",
       "inq_last_6mths                   0.00\n",
       "mths_since_last_delinq          52.58\n",
       "mths_since_last_record          85.68\n",
       "open_acc                         0.00\n",
       "pub_rec                          0.00\n",
       "revol_bal                        0.00\n",
       "revol_util                       0.06\n",
       "total_acc                        0.00\n",
       "initial_list_status              0.00\n",
       "out_prncp                        0.00\n",
       "out_prncp_inv                    0.00\n",
       "total_pymnt                      0.00\n",
       "total_pymnt_inv                  0.00\n",
       "total_rec_prncp                  0.00\n",
       "total_rec_int                    0.00\n",
       "total_rec_late_fee               0.00\n",
       "recoveries                       0.00\n",
       "collection_recovery_fee          0.00\n",
       "last_pymnt_d                     0.08\n",
       "last_pymnt_amnt                  0.00\n",
       "next_pymnt_d                    40.85\n",
       "last_credit_pull_d               0.01\n",
       "collections_12_mths_ex_med       0.01\n",
       "mths_since_last_major_derog     76.92\n",
       "policy_code                      0.00\n",
       "application_type                 0.00\n",
       "annual_inc_joint               100.00\n",
       "dti_joint                      100.00\n",
       "verification_status_joint      100.00\n",
       "acc_now_delinq                   0.00\n",
       "tot_coll_amt                    11.24\n",
       "tot_cur_bal                     11.24\n",
       "open_acc_6m                    100.00\n",
       "open_il_6m                     100.00\n",
       "open_il_12m                    100.00\n",
       "open_il_24m                    100.00\n",
       "mths_since_rcnt_il             100.00\n",
       "total_bal_il                   100.00\n",
       "il_util                        100.00\n",
       "open_rv_12m                    100.00\n",
       "open_rv_24m                    100.00\n",
       "max_bal_bc                     100.00\n",
       "all_util                       100.00\n",
       "total_rev_hi_lim                11.24\n",
       "inq_fi                         100.00\n",
       "total_cu_tl                    100.00\n",
       "inq_last_12m                   100.00\n",
       "default_ind                      0.00\n",
       "dtype: float64"
      ]
     },
     "execution_count": 26,
     "metadata": {},
     "output_type": "execute_result"
    }
   ],
   "source": [
    "# finding percentage of null values in the dataset\n",
    "train.isna().mean().round(4) * 100"
   ]
  },
  {
   "cell_type": "code",
   "execution_count": 27,
   "metadata": {},
   "outputs": [
    {
     "name": "stdout",
     "output_type": "stream",
     "text": [
      "(598978, 52)\n",
      "(256991, 53)\n"
     ]
    }
   ],
   "source": [
    "## Drop columns with NA greater than 50%\n",
    "train = train.loc[:,train.isnull().mean(axis=0) < 0.5]\n",
    "print(train.shape)\n",
    "\n",
    "## Droping NA columns with greater than 50% NA values in test\n",
    "test = test.loc[:,test.isnull().mean(axis=0) < 0.5]\n",
    "print(test.shape)"
   ]
  },
  {
   "cell_type": "code",
   "execution_count": 28,
   "metadata": {},
   "outputs": [
    {
     "data": {
      "text/plain": [
       "0.4857913312139336"
      ]
     },
     "execution_count": 28,
     "metadata": {},
     "output_type": "execute_result"
    }
   ],
   "source": [
    "# \"mths_since_last_delinq\" , it was dropped in train data because it has more than 50% NA values\n",
    "# Let's check in test data\n",
    "test['mths_since_last_delinq'].isna().mean()"
   ]
  },
  {
   "cell_type": "code",
   "execution_count": 29,
   "metadata": {},
   "outputs": [
    {
     "name": "stdout",
     "output_type": "stream",
     "text": [
      "(256991, 52)\n"
     ]
    }
   ],
   "source": [
    "# mths_since_last_delinq has 48% NA values so we can drop this column in test data also\n",
    "test.drop('mths_since_last_delinq', axis=1, inplace=True)\n",
    "print(test.shape)"
   ]
  },
  {
   "cell_type": "code",
   "execution_count": 30,
   "metadata": {},
   "outputs": [
    {
     "name": "stdout",
     "output_type": "stream",
     "text": [
      "(598978, 52)\n",
      "(256991, 52)\n"
     ]
    }
   ],
   "source": [
    "# Now, train and test have equal columns\n",
    "print(train.shape)\n",
    "print(test.shape)"
   ]
  },
  {
   "cell_type": "code",
   "execution_count": 31,
   "metadata": {},
   "outputs": [
    {
     "data": {
      "text/plain": [
       "Index(['id', 'member_id', 'loan_amnt', 'funded_amnt', 'funded_amnt_inv',\n",
       "       'term', 'int_rate', 'installment', 'grade', 'sub_grade', 'emp_title',\n",
       "       'emp_length', 'home_ownership', 'annual_inc', 'verification_status',\n",
       "       'issue_d', 'pymnt_plan', 'purpose', 'title', 'zip_code', 'addr_state',\n",
       "       'dti', 'delinq_2yrs', 'earliest_cr_line', 'inq_last_6mths', 'open_acc',\n",
       "       'pub_rec', 'revol_bal', 'revol_util', 'total_acc',\n",
       "       'initial_list_status', 'out_prncp', 'out_prncp_inv', 'total_pymnt',\n",
       "       'total_pymnt_inv', 'total_rec_prncp', 'total_rec_int',\n",
       "       'total_rec_late_fee', 'recoveries', 'collection_recovery_fee',\n",
       "       'last_pymnt_d', 'last_pymnt_amnt', 'next_pymnt_d', 'last_credit_pull_d',\n",
       "       'collections_12_mths_ex_med', 'policy_code', 'application_type',\n",
       "       'acc_now_delinq', 'tot_coll_amt', 'tot_cur_bal', 'total_rev_hi_lim',\n",
       "       'default_ind'],\n",
       "      dtype='object')"
      ]
     },
     "execution_count": 31,
     "metadata": {},
     "output_type": "execute_result"
    }
   ],
   "source": [
    "train.columns"
   ]
  },
  {
   "cell_type": "markdown",
   "metadata": {},
   "source": [
    "### dropping unimportant variables"
   ]
  },
  {
   "cell_type": "code",
   "execution_count": 32,
   "metadata": {},
   "outputs": [],
   "source": [
    "# Based on inspect data function\n",
    "# we can drop id and member_id variables because both variables have unique values to all customers. \n",
    "# it is not providing any information\n",
    "dropping_col = ['issue_d','id','member_id']\n",
    "\n",
    "train.drop(dropping_col, axis = 1, inplace=True)\n",
    "test.drop(dropping_col, axis=1, inplace=True)"
   ]
  },
  {
   "cell_type": "code",
   "execution_count": 33,
   "metadata": {},
   "outputs": [
    {
     "name": "stdout",
     "output_type": "stream",
     "text": [
      "(598978, 49)\n",
      "(256991, 49)\n"
     ]
    }
   ],
   "source": [
    "print(train.shape)\n",
    "print(test.shape)"
   ]
  },
  {
   "cell_type": "markdown",
   "metadata": {},
   "source": [
    "#### cardinality is the number of unique values for the categorical attribute"
   ]
  },
  {
   "cell_type": "markdown",
   "metadata": {},
   "source": [
    "some variables have high cardinality such as addr_state, earliest_cr_line, emp_title, issue_d, issue_d.1, last_credit_pull_d, last_pymnt_d, purpose, title, zip_code\n",
    "\n",
    "along with these variables we can drop application_type because it has only one unique value\n",
    "\n",
    "now, we are going to drop high cardinality variables"
   ]
  },
  {
   "cell_type": "code",
   "execution_count": 34,
   "metadata": {},
   "outputs": [
    {
     "data": {
      "text/plain": [
       "Index(['term', 'grade', 'sub_grade', 'emp_title', 'emp_length',\n",
       "       'home_ownership', 'verification_status', 'issue_d', 'pymnt_plan',\n",
       "       'desc', 'purpose', 'title', 'zip_code', 'addr_state',\n",
       "       'earliest_cr_line', 'initial_list_status', 'last_pymnt_d',\n",
       "       'next_pymnt_d', 'last_credit_pull_d', 'application_type',\n",
       "       'verification_status_joint'],\n",
       "      dtype='object')"
      ]
     },
     "execution_count": 34,
     "metadata": {},
     "output_type": "execute_result"
    }
   ],
   "source": [
    "categorical_feats"
   ]
  },
  {
   "cell_type": "code",
   "execution_count": 35,
   "metadata": {},
   "outputs": [],
   "source": [
    "cardinality_col = ['addr_state', 'earliest_cr_line', 'emp_title', \n",
    "                   'last_credit_pull_d', \n",
    "                   'last_pymnt_d', 'purpose', 'title', 'zip_code',\n",
    "                  'application_type']\n",
    "\n",
    "\n",
    "train.drop(cardinality_col, axis = 1, inplace=True)\n",
    "test.drop(cardinality_col, axis=1, inplace=True)"
   ]
  },
  {
   "cell_type": "code",
   "execution_count": 36,
   "metadata": {},
   "outputs": [
    {
     "name": "stdout",
     "output_type": "stream",
     "text": [
      "(598978, 40)\n",
      "(256991, 40)\n"
     ]
    }
   ],
   "source": [
    "print(train.shape)\n",
    "print(test.shape)"
   ]
  },
  {
   "cell_type": "code",
   "execution_count": 37,
   "metadata": {},
   "outputs": [
    {
     "name": "stdout",
     "output_type": "stream",
     "text": [
      "(598978, 39)\n",
      "(256991, 39)\n"
     ]
    }
   ],
   "source": [
    "# policy_code is common to all observations in numerical features so it is not providing any information we can drop this from numerical features\n",
    "train.drop(['policy_code'], axis = 1, inplace=True)\n",
    "test.drop(['policy_code'], axis=1, inplace=True)\n",
    "\n",
    "print(train.shape)\n",
    "print(test.shape)"
   ]
  },
  {
   "cell_type": "code",
   "execution_count": 38,
   "metadata": {},
   "outputs": [
    {
     "name": "stdout",
     "output_type": "stream",
     "text": [
      "(598978, 38)\n",
      "(256991, 38)\n"
     ]
    }
   ],
   "source": [
    "# based on chi-square test, there is no relation between pymnt_plan and target variable so we can drop this variable\n",
    "train.drop(['pymnt_plan'], axis = 1, inplace=True)\n",
    "test.drop(['pymnt_plan'], axis=1, inplace=True)\n",
    "\n",
    "print(train.shape)\n",
    "print(test.shape)"
   ]
  },
  {
   "cell_type": "code",
   "execution_count": 39,
   "metadata": {},
   "outputs": [
    {
     "name": "stdout",
     "output_type": "stream",
     "text": [
      "(598978, 32)\n",
      "(256991, 32)\n"
     ]
    }
   ],
   "source": [
    "# we can drop these variables based on multicollinearity\n",
    "mul_col = ['funded_amnt_inv', 'installment', 'loan_amnt', 'recoveries', 'total_pymnt_inv', 'total_rec_prncp']\n",
    "\n",
    "train.drop(mul_col, axis = 1, inplace=True)\n",
    "test.drop(mul_col, axis=1, inplace=True)\n",
    "\n",
    "print(train.shape)\n",
    "print(test.shape)"
   ]
  },
  {
   "cell_type": "markdown",
   "metadata": {},
   "source": [
    "### Imputation"
   ]
  },
  {
   "cell_type": "code",
   "execution_count": 40,
   "metadata": {},
   "outputs": [
    {
     "data": {
      "text/plain": [
       "funded_amnt                    0.00\n",
       "term                           0.00\n",
       "int_rate                       0.00\n",
       "grade                          0.00\n",
       "sub_grade                      0.00\n",
       "emp_length                     4.69\n",
       "home_ownership                 0.00\n",
       "annual_inc                     0.00\n",
       "verification_status            0.00\n",
       "dti                            0.00\n",
       "delinq_2yrs                    0.00\n",
       "inq_last_6mths                 0.00\n",
       "open_acc                       0.00\n",
       "pub_rec                        0.00\n",
       "revol_bal                      0.00\n",
       "revol_util                     0.06\n",
       "total_acc                      0.00\n",
       "initial_list_status            0.00\n",
       "out_prncp                      0.00\n",
       "out_prncp_inv                  0.00\n",
       "total_pymnt                    0.00\n",
       "total_rec_int                  0.00\n",
       "total_rec_late_fee             0.00\n",
       "collection_recovery_fee        0.00\n",
       "last_pymnt_amnt                0.00\n",
       "next_pymnt_d                  40.85\n",
       "collections_12_mths_ex_med     0.01\n",
       "acc_now_delinq                 0.00\n",
       "tot_coll_amt                  11.24\n",
       "tot_cur_bal                   11.24\n",
       "total_rev_hi_lim              11.24\n",
       "default_ind                    0.00\n",
       "dtype: float64"
      ]
     },
     "execution_count": 40,
     "metadata": {},
     "output_type": "execute_result"
    }
   ],
   "source": [
    "# finding percentage of null values in the dataset\n",
    "train.isnull().mean().round(4) * 100"
   ]
  },
  {
   "cell_type": "code",
   "execution_count": 41,
   "metadata": {},
   "outputs": [
    {
     "data": {
      "text/plain": [
       "emp_length                     object\n",
       "revol_util                    float64\n",
       "next_pymnt_d                   object\n",
       "collections_12_mths_ex_med    float64\n",
       "tot_coll_amt                  float64\n",
       "tot_cur_bal                   float64\n",
       "total_rev_hi_lim              float64\n",
       "dtype: object"
      ]
     },
     "execution_count": 41,
     "metadata": {},
     "output_type": "execute_result"
    }
   ],
   "source": [
    "train.loc[:,train.isnull().mean(axis=0) > 0].dtypes"
   ]
  },
  {
   "cell_type": "code",
   "execution_count": 42,
   "metadata": {},
   "outputs": [
    {
     "name": "stdout",
     "output_type": "stream",
     "text": [
      "training data\n",
      "emp_length      0.0\n",
      "next_pymnt_d    0.0\n",
      "dtype: float64\n",
      "\n",
      "\n",
      "test data\n",
      "emp_length      0.0\n",
      "next_pymnt_d    0.0\n",
      "dtype: float64\n"
     ]
    }
   ],
   "source": [
    "# first Imputing categorical variables in train dataset\n",
    "train['emp_length'].fillna(train['emp_length'].mode()[0], inplace = True)\n",
    "train['next_pymnt_d'].fillna(train['next_pymnt_d'].mode()[0], inplace = True)\n",
    "\n",
    "print(\"training data\")\n",
    "print(train[['emp_length','next_pymnt_d']].isna().mean())\n",
    "\n",
    "# Imputing categorical variables in test dataset\n",
    "test['emp_length'].fillna(test['emp_length'].mode()[0], inplace = True)\n",
    "test['next_pymnt_d'].fillna(test['next_pymnt_d'].mode()[0], inplace = True)\n",
    "\n",
    "print(\"\\n\")\n",
    "print(\"test data\")\n",
    "print(test[['emp_length','next_pymnt_d']].isna().mean())"
   ]
  },
  {
   "cell_type": "code",
   "execution_count": 43,
   "metadata": {},
   "outputs": [
    {
     "name": "stdout",
     "output_type": "stream",
     "text": [
      "training data\n",
      "revol_util                    0.0\n",
      "collections_12_mths_ex_med    0.0\n",
      "tot_coll_amt                  0.0\n",
      "tot_cur_bal                   0.0\n",
      "total_rev_hi_lim              0.0\n",
      "dtype: float64\n",
      "\n",
      "\n",
      "test data\n"
     ]
    },
    {
     "data": {
      "text/plain": [
       "revol_util                    0.0\n",
       "collections_12_mths_ex_med    0.0\n",
       "tot_coll_amt                  0.0\n",
       "tot_cur_bal                   0.0\n",
       "total_rev_hi_lim              0.0\n",
       "dtype: float64"
      ]
     },
     "execution_count": 43,
     "metadata": {},
     "output_type": "execute_result"
    }
   ],
   "source": [
    "num_NA_col = ['revol_util','collections_12_mths_ex_med','tot_coll_amt','tot_cur_bal',\n",
    "              'total_rev_hi_lim']\n",
    "\n",
    "from sklearn.impute import SimpleImputer\n",
    "imp = SimpleImputer(strategy = 'median')\n",
    "train.loc[:, num_NA_col] = imp.fit_transform(train[num_NA_col])\n",
    "\n",
    "print(\"training data\")\n",
    "print(train[num_NA_col].isna().mean())\n",
    "\n",
    "\n",
    "from sklearn.impute import SimpleImputer\n",
    "imp = SimpleImputer(strategy = 'median')\n",
    "test.loc[:, num_NA_col] = imp.fit_transform(test[num_NA_col])\n",
    "\n",
    "print(\"\\n\")\n",
    "print(\"test data\")\n",
    "test[num_NA_col].isna().mean()"
   ]
  },
  {
   "cell_type": "code",
   "execution_count": 44,
   "metadata": {},
   "outputs": [
    {
     "name": "stdout",
     "output_type": "stream",
     "text": [
      "(598978, 32)\n",
      "(256991, 32)\n"
     ]
    }
   ],
   "source": [
    "print(train.shape)\n",
    "print(test.shape)"
   ]
  },
  {
   "cell_type": "code",
   "execution_count": 45,
   "metadata": {},
   "outputs": [
    {
     "data": {
      "text/plain": [
       "Index(['funded_amnt', 'term', 'int_rate', 'grade', 'sub_grade', 'emp_length',\n",
       "       'home_ownership', 'annual_inc', 'verification_status', 'dti',\n",
       "       'delinq_2yrs', 'inq_last_6mths', 'open_acc', 'pub_rec', 'revol_bal',\n",
       "       'revol_util', 'total_acc', 'initial_list_status', 'out_prncp',\n",
       "       'out_prncp_inv', 'total_pymnt', 'total_rec_int', 'total_rec_late_fee',\n",
       "       'collection_recovery_fee', 'last_pymnt_amnt', 'next_pymnt_d',\n",
       "       'collections_12_mths_ex_med', 'acc_now_delinq', 'tot_coll_amt',\n",
       "       'tot_cur_bal', 'total_rev_hi_lim', 'default_ind'],\n",
       "      dtype='object')"
      ]
     },
     "execution_count": 45,
     "metadata": {},
     "output_type": "execute_result"
    }
   ],
   "source": [
    "train.columns"
   ]
  },
  {
   "cell_type": "markdown",
   "metadata": {},
   "source": [
    "### Sepearating independent and dependent variables"
   ]
  },
  {
   "cell_type": "code",
   "execution_count": 46,
   "metadata": {},
   "outputs": [],
   "source": [
    "# Seperating x and y variables\n",
    "X_train = train[train.columns.difference(['default_ind'])]\n",
    "y_train = train['default_ind']\n",
    "\n",
    "X_test = test[test.columns.difference(['default_ind'])]\n",
    "y_test = test['default_ind']"
   ]
  },
  {
   "cell_type": "code",
   "execution_count": 47,
   "metadata": {},
   "outputs": [
    {
     "name": "stdout",
     "output_type": "stream",
     "text": [
      "(598978, 31)\n",
      "(598978,)\n",
      "(256991, 31)\n",
      "(256991,)\n"
     ]
    }
   ],
   "source": [
    "# checking dimensions of X and y dataframes\n",
    "print(X_train.shape)\n",
    "print(y_train.shape)\n",
    "print(X_test.shape)\n",
    "print(y_test.shape)"
   ]
  },
  {
   "cell_type": "markdown",
   "metadata": {},
   "source": [
    "### Dummification"
   ]
  },
  {
   "cell_type": "code",
   "execution_count": 48,
   "metadata": {},
   "outputs": [
    {
     "name": "stdout",
     "output_type": "stream",
     "text": [
      "(598978, 84)\n",
      "(256991, 82)\n"
     ]
    }
   ],
   "source": [
    "X_train = pd.get_dummies(X_train, drop_first = True)\n",
    "X_test = pd.get_dummies(X_test, drop_first = True)\n",
    "\n",
    "print(X_train.shape)\n",
    "print(X_test.shape)"
   ]
  },
  {
   "cell_type": "code",
   "execution_count": 49,
   "metadata": {},
   "outputs": [
    {
     "name": "stdout",
     "output_type": "stream",
     "text": [
      "(598978, 82)\n",
      "(256991, 82)\n"
     ]
    }
   ],
   "source": [
    "# alignment for X_train and X_test dataset\n",
    "X_train, X_test = X_train.align(X_test, join = 'inner', axis = 1)\n",
    "\n",
    "print(X_train.shape)\n",
    "print(X_test.shape)"
   ]
  },
  {
   "cell_type": "markdown",
   "metadata": {},
   "source": [
    "## Model Building"
   ]
  },
  {
   "cell_type": "markdown",
   "metadata": {},
   "source": [
    "### Logistic regression - Basic model"
   ]
  },
  {
   "cell_type": "code",
   "execution_count": 50,
   "metadata": {},
   "outputs": [
    {
     "data": {
      "text/plain": [
       "LogisticRegression(C=1.0, class_weight=None, dual=False, fit_intercept=True,\n",
       "                   intercept_scaling=1, l1_ratio=None, max_iter=100,\n",
       "                   multi_class='auto', n_jobs=None, penalty='l2',\n",
       "                   random_state=123, solver='lbfgs', tol=0.0001, verbose=0,\n",
       "                   warm_start=False)"
      ]
     },
     "execution_count": 50,
     "metadata": {},
     "output_type": "execute_result"
    },
    {
     "name": "stdout",
     "output_type": "stream",
     "text": [
      "accuracy_score\n",
      "0.9964239087245275\n",
      "0.9995447311384446\n",
      "confusion_matrix\n",
      "[[552762     60]\n",
      " [  2082  44074]]\n",
      "[[256627     53]\n",
      " [    64    247]]\n",
      "classification_report\n",
      "              precision    recall  f1-score   support\n",
      "\n",
      "           0       1.00      1.00      1.00    552822\n",
      "           1       1.00      0.95      0.98     46156\n",
      "\n",
      "    accuracy                           1.00    598978\n",
      "   macro avg       1.00      0.98      0.99    598978\n",
      "weighted avg       1.00      1.00      1.00    598978\n",
      "\n",
      "              precision    recall  f1-score   support\n",
      "\n",
      "           0       1.00      1.00      1.00    256680\n",
      "           1       0.82      0.79      0.81       311\n",
      "\n",
      "    accuracy                           1.00    256991\n",
      "   macro avg       0.91      0.90      0.90    256991\n",
      "weighted avg       1.00      1.00      1.00    256991\n",
      "\n"
     ]
    }
   ],
   "source": [
    "from sklearn.metrics import accuracy_score, f1_score, confusion_matrix, classification_report\n",
    "from sklearn.linear_model import LogisticRegression\n",
    "\n",
    "model_log = LogisticRegression(random_state = 123)\n",
    "model_log.fit(X_train, y_train)\n",
    "\n",
    "y_p_train_log = model_log.predict(X_train)\n",
    "y_p_test_log = model_log.predict(X_test)\n",
    "\n",
    "print(\"accuracy_score\")\n",
    "print(accuracy_score(y_train, y_p_train_log))\n",
    "print(accuracy_score(y_test, y_p_test_log))\n",
    "\n",
    "print(\"confusion_matrix\")\n",
    "print(confusion_matrix(y_train, y_p_train_log))\n",
    "print(confusion_matrix(y_test, y_p_test_log))\n",
    "\n",
    "print(\"classification_report\")\n",
    "print(classification_report(y_train, y_p_train_log))\n",
    "print(classification_report(y_test, y_p_test_log))"
   ]
  },
  {
   "cell_type": "markdown",
   "metadata": {},
   "source": [
    "### Note: in this problem, we need to consider recall because target variable is imbalance"
   ]
  },
  {
   "cell_type": "markdown",
   "metadata": {},
   "source": [
    "##### Inference: we got very good recall and precision "
   ]
  },
  {
   "cell_type": "markdown",
   "metadata": {},
   "source": [
    "### Cross validation"
   ]
  },
  {
   "cell_type": "code",
   "execution_count": 57,
   "metadata": {},
   "outputs": [
    {
     "name": "stdout",
     "output_type": "stream",
     "text": [
      "0.9961768191506485\n"
     ]
    }
   ],
   "source": [
    "# #  Checking logistic model results with 5- fold cross validation\n",
    "# from sklearn.model_selection import cross_val_score  \n",
    "# print (cross_val_score(model_log, X_train, y_train, cv=5).mean())"
   ]
  },
  {
   "cell_type": "markdown",
   "metadata": {},
   "source": [
    "### Hyper parameter tunning for logistic regression"
   ]
  },
  {
   "cell_type": "code",
   "execution_count": 53,
   "metadata": {},
   "outputs": [
    {
     "name": "stdout",
     "output_type": "stream",
     "text": [
      "{'C': 1.5774802158110992, 'penalty': 'l2'}\n",
      "0.9962435993157704\n"
     ]
    }
   ],
   "source": [
    "from sklearn.model_selection import RandomizedSearchCV\n",
    "from sklearn.linear_model import LogisticRegression\n",
    "from scipy.stats import uniform\n",
    "\n",
    "log = LogisticRegression()\n",
    "par = {'penalty':['l1', 'l2'], 'C':uniform(loc = 0, scale = 4)}\n",
    "\n",
    "clf = RandomizedSearchCV(log, par, random_state=123, n_iter=100, cv=5,n_jobs=-1)\n",
    "best_model = clf.fit(X_train, y_train)\n",
    "\n",
    "\n",
    "print(best_model.best_params_)\n",
    "print(best_model.best_score_)"
   ]
  },
  {
   "cell_type": "markdown",
   "metadata": {},
   "source": [
    "#### Logistic regression with best parameters"
   ]
  },
  {
   "cell_type": "code",
   "execution_count": 54,
   "metadata": {},
   "outputs": [
    {
     "name": "stdout",
     "output_type": "stream",
     "text": [
      "accuracy_score\n",
      "0.9965875207436667\n",
      "0.9996653579308225\n",
      "confusion_matrix\n",
      "[[552808     14]\n",
      " [  2030  44126]]\n",
      "[[256658     22]\n",
      " [    64    247]]\n",
      "classification_report\n",
      "              precision    recall  f1-score   support\n",
      "\n",
      "           0       1.00      1.00      1.00    552822\n",
      "           1       1.00      0.96      0.98     46156\n",
      "\n",
      "    accuracy                           1.00    598978\n",
      "   macro avg       1.00      0.98      0.99    598978\n",
      "weighted avg       1.00      1.00      1.00    598978\n",
      "\n",
      "              precision    recall  f1-score   support\n",
      "\n",
      "           0       1.00      1.00      1.00    256680\n",
      "           1       0.92      0.79      0.85       311\n",
      "\n",
      "    accuracy                           1.00    256991\n",
      "   macro avg       0.96      0.90      0.93    256991\n",
      "weighted avg       1.00      1.00      1.00    256991\n",
      "\n"
     ]
    }
   ],
   "source": [
    "from sklearn.metrics import accuracy_score, f1_score, confusion_matrix, classification_report\n",
    "\n",
    "y_p_train_best = best_model.predict(X_train)\n",
    "y_p_test_best = best_model.predict(X_test)\n",
    "\n",
    "print(\"accuracy_score\")\n",
    "print(accuracy_score(y_train, y_p_train_best))\n",
    "print(accuracy_score(y_test, y_p_test_best))\n",
    "\n",
    "print(\"confusion_matrix\")\n",
    "print(confusion_matrix(y_train, y_p_train_best))\n",
    "print(confusion_matrix(y_test, y_p_test_best))\n",
    "\n",
    "print(\"classification_report\")\n",
    "print(classification_report(y_train, y_p_train_best))\n",
    "print(classification_report(y_test, y_p_test_best))"
   ]
  },
  {
   "cell_type": "markdown",
   "metadata": {},
   "source": [
    "#### Note: the model performance improved after hyperparameter tuning"
   ]
  },
  {
   "cell_type": "markdown",
   "metadata": {},
   "source": [
    "### now, tuning C parameter "
   ]
  },
  {
   "cell_type": "code",
   "execution_count": 55,
   "metadata": {},
   "outputs": [
    {
     "data": {
      "text/plain": [
       "LogisticRegression(C=0.001, class_weight=None, dual=False, fit_intercept=True,\n",
       "                   intercept_scaling=1, l1_ratio=None, max_iter=100,\n",
       "                   multi_class='auto', n_jobs=None, penalty='l2',\n",
       "                   random_state=123, solver='lbfgs', tol=0.0001, verbose=0,\n",
       "                   warm_start=False)"
      ]
     },
     "execution_count": 55,
     "metadata": {},
     "output_type": "execute_result"
    },
    {
     "name": "stdout",
     "output_type": "stream",
     "text": [
      "classification_report 0.001\n",
      "              precision    recall  f1-score   support\n",
      "\n",
      "           0       1.00      1.00      1.00    256680\n",
      "           1       0.95      0.79      0.87       311\n",
      "\n",
      "    accuracy                           1.00    256991\n",
      "   macro avg       0.98      0.90      0.93    256991\n",
      "weighted avg       1.00      1.00      1.00    256991\n",
      "\n"
     ]
    },
    {
     "data": {
      "text/plain": [
       "LogisticRegression(C=0.01, class_weight=None, dual=False, fit_intercept=True,\n",
       "                   intercept_scaling=1, l1_ratio=None, max_iter=100,\n",
       "                   multi_class='auto', n_jobs=None, penalty='l2',\n",
       "                   random_state=123, solver='lbfgs', tol=0.0001, verbose=0,\n",
       "                   warm_start=False)"
      ]
     },
     "execution_count": 55,
     "metadata": {},
     "output_type": "execute_result"
    },
    {
     "name": "stdout",
     "output_type": "stream",
     "text": [
      "classification_report 0.01\n",
      "              precision    recall  f1-score   support\n",
      "\n",
      "           0       1.00      1.00      1.00    256680\n",
      "           1       0.84      0.79      0.82       311\n",
      "\n",
      "    accuracy                           1.00    256991\n",
      "   macro avg       0.92      0.90      0.91    256991\n",
      "weighted avg       1.00      1.00      1.00    256991\n",
      "\n"
     ]
    },
    {
     "data": {
      "text/plain": [
       "LogisticRegression(C=0.1, class_weight=None, dual=False, fit_intercept=True,\n",
       "                   intercept_scaling=1, l1_ratio=None, max_iter=100,\n",
       "                   multi_class='auto', n_jobs=None, penalty='l2',\n",
       "                   random_state=123, solver='lbfgs', tol=0.0001, verbose=0,\n",
       "                   warm_start=False)"
      ]
     },
     "execution_count": 55,
     "metadata": {},
     "output_type": "execute_result"
    },
    {
     "name": "stdout",
     "output_type": "stream",
     "text": [
      "classification_report 0.1\n",
      "              precision    recall  f1-score   support\n",
      "\n",
      "           0       1.00      1.00      1.00    256680\n",
      "           1       0.87      0.79      0.83       311\n",
      "\n",
      "    accuracy                           1.00    256991\n",
      "   macro avg       0.93      0.90      0.91    256991\n",
      "weighted avg       1.00      1.00      1.00    256991\n",
      "\n"
     ]
    },
    {
     "data": {
      "text/plain": [
       "LogisticRegression(C=1, class_weight=None, dual=False, fit_intercept=True,\n",
       "                   intercept_scaling=1, l1_ratio=None, max_iter=100,\n",
       "                   multi_class='auto', n_jobs=None, penalty='l2',\n",
       "                   random_state=123, solver='lbfgs', tol=0.0001, verbose=0,\n",
       "                   warm_start=False)"
      ]
     },
     "execution_count": 55,
     "metadata": {},
     "output_type": "execute_result"
    },
    {
     "name": "stdout",
     "output_type": "stream",
     "text": [
      "classification_report 1\n",
      "              precision    recall  f1-score   support\n",
      "\n",
      "           0       1.00      1.00      1.00    256680\n",
      "           1       0.82      0.79      0.81       311\n",
      "\n",
      "    accuracy                           1.00    256991\n",
      "   macro avg       0.91      0.90      0.90    256991\n",
      "weighted avg       1.00      1.00      1.00    256991\n",
      "\n"
     ]
    },
    {
     "data": {
      "text/plain": [
       "LogisticRegression(C=10, class_weight=None, dual=False, fit_intercept=True,\n",
       "                   intercept_scaling=1, l1_ratio=None, max_iter=100,\n",
       "                   multi_class='auto', n_jobs=None, penalty='l2',\n",
       "                   random_state=123, solver='lbfgs', tol=0.0001, verbose=0,\n",
       "                   warm_start=False)"
      ]
     },
     "execution_count": 55,
     "metadata": {},
     "output_type": "execute_result"
    },
    {
     "name": "stdout",
     "output_type": "stream",
     "text": [
      "classification_report 10\n",
      "              precision    recall  f1-score   support\n",
      "\n",
      "           0       1.00      1.00      1.00    256680\n",
      "           1       0.87      0.79      0.83       311\n",
      "\n",
      "    accuracy                           1.00    256991\n",
      "   macro avg       0.94      0.90      0.92    256991\n",
      "weighted avg       1.00      1.00      1.00    256991\n",
      "\n"
     ]
    },
    {
     "data": {
      "text/plain": [
       "LogisticRegression(C=100, class_weight=None, dual=False, fit_intercept=True,\n",
       "                   intercept_scaling=1, l1_ratio=None, max_iter=100,\n",
       "                   multi_class='auto', n_jobs=None, penalty='l2',\n",
       "                   random_state=123, solver='lbfgs', tol=0.0001, verbose=0,\n",
       "                   warm_start=False)"
      ]
     },
     "execution_count": 55,
     "metadata": {},
     "output_type": "execute_result"
    },
    {
     "name": "stdout",
     "output_type": "stream",
     "text": [
      "classification_report 100\n",
      "              precision    recall  f1-score   support\n",
      "\n",
      "           0       1.00      1.00      1.00    256680\n",
      "           1       1.00      0.79      0.89       311\n",
      "\n",
      "    accuracy                           1.00    256991\n",
      "   macro avg       1.00      0.90      0.94    256991\n",
      "weighted avg       1.00      1.00      1.00    256991\n",
      "\n"
     ]
    },
    {
     "data": {
      "text/plain": [
       "LogisticRegression(C=1000, class_weight=None, dual=False, fit_intercept=True,\n",
       "                   intercept_scaling=1, l1_ratio=None, max_iter=100,\n",
       "                   multi_class='auto', n_jobs=None, penalty='l2',\n",
       "                   random_state=123, solver='lbfgs', tol=0.0001, verbose=0,\n",
       "                   warm_start=False)"
      ]
     },
     "execution_count": 55,
     "metadata": {},
     "output_type": "execute_result"
    },
    {
     "name": "stdout",
     "output_type": "stream",
     "text": [
      "classification_report 1000\n",
      "              precision    recall  f1-score   support\n",
      "\n",
      "           0       1.00      1.00      1.00    256680\n",
      "           1       1.00      0.79      0.89       311\n",
      "\n",
      "    accuracy                           1.00    256991\n",
      "   macro avg       1.00      0.90      0.94    256991\n",
      "weighted avg       1.00      1.00      1.00    256991\n",
      "\n"
     ]
    }
   ],
   "source": [
    "from sklearn.metrics import accuracy_score, f1_score, confusion_matrix, classification_report\n",
    "from sklearn.linear_model import LogisticRegression\n",
    "\n",
    "C_range =  [0.001,0.01,0.1,1,10,100,1000]\n",
    "\n",
    "for i in C_range:\n",
    "    model_log = LogisticRegression(penalty='l2', C=i,\n",
    "                                   random_state=123)\n",
    "    model_log.fit(X_train, y_train)\n",
    "\n",
    "    y_p_train_log = model_log.predict(X_train)\n",
    "    y_p_test_log = model_log.predict(X_test)\n",
    "    print(f\"classification_report {i}\")\n",
    "    print(classification_report(y_test, y_p_test_log))"
   ]
  },
  {
   "cell_type": "markdown",
   "metadata": {},
   "source": [
    "### Logistic Regression with best c = 100 value"
   ]
  },
  {
   "cell_type": "code",
   "execution_count": 96,
   "metadata": {},
   "outputs": [
    {
     "data": {
      "text/plain": [
       "LogisticRegression(C=100, class_weight=None, dual=False, fit_intercept=True,\n",
       "                   intercept_scaling=1, l1_ratio=None, max_iter=100,\n",
       "                   multi_class='auto', n_jobs=None, penalty='l2',\n",
       "                   random_state=123, solver='lbfgs', tol=0.0001, verbose=0,\n",
       "                   warm_start=False)"
      ]
     },
     "execution_count": 96,
     "metadata": {},
     "output_type": "execute_result"
    },
    {
     "name": "stdout",
     "output_type": "stream",
     "text": [
      "accuracy_score\n",
      "0.9963304161421621\n",
      "0.9997509640415423\n",
      "confusion_matrix\n",
      "[[552811     11]\n",
      " [  2187  43969]]\n",
      "[[256680      0]\n",
      " [    64    247]]\n",
      "classification_report\n",
      "              precision    recall  f1-score   support\n",
      "\n",
      "           0       1.00      1.00      1.00    552822\n",
      "           1       1.00      0.95      0.98     46156\n",
      "\n",
      "    accuracy                           1.00    598978\n",
      "   macro avg       1.00      0.98      0.99    598978\n",
      "weighted avg       1.00      1.00      1.00    598978\n",
      "\n",
      "              precision    recall  f1-score   support\n",
      "\n",
      "           0       1.00      1.00      1.00    256680\n",
      "           1       1.00      0.79      0.89       311\n",
      "\n",
      "    accuracy                           1.00    256991\n",
      "   macro avg       1.00      0.90      0.94    256991\n",
      "weighted avg       1.00      1.00      1.00    256991\n",
      "\n"
     ]
    }
   ],
   "source": [
    "from sklearn.metrics import accuracy_score, f1_score, confusion_matrix, classification_report\n",
    "from sklearn.linear_model import LogisticRegression\n",
    "\n",
    "model_log_1 = LogisticRegression(penalty= 'l2', C = 100, random_state = 123)\n",
    "model_log_1.fit(X_train, y_train)\n",
    "\n",
    "y_p_train_log_1 = model_log_1.predict(X_train)\n",
    "y_p_test_log_1 = model_log_1.predict(X_test)\n",
    "\n",
    "print(\"accuracy_score\")\n",
    "print(accuracy_score(y_train, y_p_train_log_1))\n",
    "print(accuracy_score(y_test, y_p_test_log_1))\n",
    "\n",
    "print(\"confusion_matrix\")\n",
    "print(confusion_matrix(y_train, y_p_train_log_1))\n",
    "print(confusion_matrix(y_test, y_p_test_log_1))\n",
    "\n",
    "print(\"classification_report\")\n",
    "print(classification_report(y_train, y_p_train_log_1))\n",
    "print(classification_report(y_test, y_p_test_log_1))"
   ]
  },
  {
   "cell_type": "markdown",
   "metadata": {},
   "source": [
    "### Decision tree - basic model"
   ]
  },
  {
   "cell_type": "code",
   "execution_count": 56,
   "metadata": {},
   "outputs": [
    {
     "data": {
      "text/plain": [
       "DecisionTreeClassifier(ccp_alpha=0.0, class_weight=None, criterion='gini',\n",
       "                       max_depth=None, max_features=None, max_leaf_nodes=None,\n",
       "                       min_impurity_decrease=0.0, min_impurity_split=None,\n",
       "                       min_samples_leaf=1, min_samples_split=2,\n",
       "                       min_weight_fraction_leaf=0.0, presort='deprecated',\n",
       "                       random_state=123, splitter='best')"
      ]
     },
     "execution_count": 56,
     "metadata": {},
     "output_type": "execute_result"
    },
    {
     "name": "stdout",
     "output_type": "stream",
     "text": [
      "accuracy_score\n",
      "1.0\n",
      "0.40971862827881134\n",
      "confusion_matrix\n",
      "[[552822      0]\n",
      " [     0  46156]]\n",
      "[[104988 151692]\n",
      " [     5    306]]\n",
      "classification_report\n",
      "              precision    recall  f1-score   support\n",
      "\n",
      "           0       1.00      1.00      1.00    552822\n",
      "           1       1.00      1.00      1.00     46156\n",
      "\n",
      "    accuracy                           1.00    598978\n",
      "   macro avg       1.00      1.00      1.00    598978\n",
      "weighted avg       1.00      1.00      1.00    598978\n",
      "\n",
      "              precision    recall  f1-score   support\n",
      "\n",
      "           0       1.00      0.41      0.58    256680\n",
      "           1       0.00      0.98      0.00       311\n",
      "\n",
      "    accuracy                           0.41    256991\n",
      "   macro avg       0.50      0.70      0.29    256991\n",
      "weighted avg       1.00      0.41      0.58    256991\n",
      "\n"
     ]
    }
   ],
   "source": [
    "from sklearn.tree import DecisionTreeClassifier\n",
    "from sklearn.metrics import accuracy_score, f1_score, confusion_matrix, classification_report\n",
    "\n",
    "# Building decision tree model without any parameters\n",
    "model_dt = DecisionTreeClassifier(random_state= 123)\n",
    "model_dt.fit(X_train, y_train)\n",
    "\n",
    "\n",
    "# finding prediction values\n",
    "y_p_train_dt = model_dt.predict(X_train)\n",
    "y_p_test_dt = model_dt.predict(X_test)\n",
    "\n",
    "# finding accuracy score\n",
    "print(\"accuracy_score\")\n",
    "print(accuracy_score(y_train, y_p_train_dt))\n",
    "print(accuracy_score(y_test, y_p_test_dt))\n",
    "\n",
    "print(\"confusion_matrix\")\n",
    "print(confusion_matrix(y_train, y_p_train_dt))\n",
    "print(confusion_matrix(y_test, y_p_test_dt))\n",
    "\n",
    "print(\"classification_report\")\n",
    "print(classification_report(y_train, y_p_train_dt))\n",
    "print(classification_report(y_test, y_p_test_dt))"
   ]
  },
  {
   "cell_type": "markdown",
   "metadata": {},
   "source": [
    "got very less accuracy on test data through decision tree due to overfitting problem \n",
    "\n",
    "Decision tree was overfitted on train dataset. it performed worst on test data"
   ]
  },
  {
   "cell_type": "markdown",
   "metadata": {},
   "source": [
    "### Random forest - basic model"
   ]
  },
  {
   "cell_type": "code",
   "execution_count": 57,
   "metadata": {},
   "outputs": [
    {
     "data": {
      "text/plain": [
       "RandomForestClassifier(bootstrap=True, ccp_alpha=0.0, class_weight=None,\n",
       "                       criterion='gini', max_depth=None, max_features='auto',\n",
       "                       max_leaf_nodes=None, max_samples=None,\n",
       "                       min_impurity_decrease=0.0, min_impurity_split=None,\n",
       "                       min_samples_leaf=1, min_samples_split=2,\n",
       "                       min_weight_fraction_leaf=0.0, n_estimators=100,\n",
       "                       n_jobs=None, oob_score=False, random_state=123,\n",
       "                       verbose=0, warm_start=False)"
      ]
     },
     "execution_count": 57,
     "metadata": {},
     "output_type": "execute_result"
    },
    {
     "name": "stdout",
     "output_type": "stream",
     "text": [
      "accuracy_score\n",
      "0.9999949914688019\n",
      "0.748115692767451\n",
      "confusion_matrix\n",
      "[[552822      0]\n",
      " [     3  46153]]\n",
      "[[191962  64718]\n",
      " [    14    297]]\n",
      "classification_report\n",
      "              precision    recall  f1-score   support\n",
      "\n",
      "           0       1.00      1.00      1.00    552822\n",
      "           1       1.00      1.00      1.00     46156\n",
      "\n",
      "    accuracy                           1.00    598978\n",
      "   macro avg       1.00      1.00      1.00    598978\n",
      "weighted avg       1.00      1.00      1.00    598978\n",
      "\n",
      "              precision    recall  f1-score   support\n",
      "\n",
      "           0       1.00      0.75      0.86    256680\n",
      "           1       0.00      0.95      0.01       311\n",
      "\n",
      "    accuracy                           0.75    256991\n",
      "   macro avg       0.50      0.85      0.43    256991\n",
      "weighted avg       1.00      0.75      0.85    256991\n",
      "\n"
     ]
    }
   ],
   "source": [
    "from sklearn.ensemble import RandomForestClassifier\n",
    "from sklearn.metrics import accuracy_score, f1_score, confusion_matrix, classification_report\n",
    "\n",
    "# Building decision tree model without any parameters\n",
    "model_rf = RandomForestClassifier(random_state= 123)\n",
    "model_rf.fit(X_train, y_train)\n",
    "\n",
    "\n",
    "# finding prediction values\n",
    "y_p_train_rf = model_rf.predict(X_train)\n",
    "y_p_test_rf = model_rf.predict(X_test)\n",
    "\n",
    "# finding accuracy score\n",
    "print(\"accuracy_score\")\n",
    "print(accuracy_score(y_train, y_p_train_rf))\n",
    "print(accuracy_score(y_test, y_p_test_rf))\n",
    "\n",
    "print(\"confusion_matrix\")\n",
    "print(confusion_matrix(y_train, y_p_train_rf))\n",
    "print(confusion_matrix(y_test, y_p_test_rf))\n",
    "\n",
    "print(\"classification_report\")\n",
    "print(classification_report(y_train, y_p_train_rf))\n",
    "print(classification_report(y_test, y_p_test_rf))"
   ]
  },
  {
   "cell_type": "markdown",
   "metadata": {},
   "source": [
    "Random forest performed some better than decision tree. it gave good accuracy than decision tree"
   ]
  },
  {
   "cell_type": "markdown",
   "metadata": {},
   "source": [
    "### Checking  Feature importance based on Random forest"
   ]
  },
  {
   "cell_type": "code",
   "execution_count": 58,
   "metadata": {},
   "outputs": [
    {
     "data": {
      "text/plain": [
       "<matplotlib.axes._subplots.AxesSubplot at 0x1cc81d27ac8>"
      ]
     },
     "execution_count": 58,
     "metadata": {},
     "output_type": "execute_result"
    },
    {
     "data": {
      "image/png": "[encoded data removed]",
      "text/plain": [
       "<Figure size 432x288 with 1 Axes>"
      ]
     },
     "metadata": {
      "needs_background": "light"
     },
     "output_type": "display_data"
    }
   ],
   "source": [
    "feat_imp = pd.Series(model_rf.feature_importances_,index=X_train.columns)\n",
    "feat_imp.nlargest(20).plot(kind='barh')"
   ]
  },
  {
   "cell_type": "code",
   "execution_count": 60,
   "metadata": {},
   "outputs": [
    {
     "name": "stdout",
     "output_type": "stream",
     "text": [
      "['acc_now_delinq', 'collections_12_mths_ex_med', 'delinq_2yrs', 'pub_rec', 'tot_coll_amt', 'emp_length_10+ years', 'emp_length_2 years', 'emp_length_3 years', 'emp_length_4 years', 'emp_length_5 years', 'emp_length_6 years', 'emp_length_7 years', 'emp_length_8 years', 'emp_length_9 years', 'emp_length_< 1 year', 'grade_B', 'grade_C', 'grade_D', 'grade_E', 'grade_F', 'grade_G', 'home_ownership_MORTGAGE', 'home_ownership_OWN', 'home_ownership_RENT', 'initial_list_status_w', 'next_pymnt_d_Jan-2016', 'next_pymnt_d_Mar-2016', 'sub_grade_A2', 'sub_grade_A3', 'sub_grade_A4', 'sub_grade_A5', 'sub_grade_B1', 'sub_grade_B2', 'sub_grade_B3', 'sub_grade_B4', 'sub_grade_B5', 'sub_grade_C1', 'sub_grade_C2', 'sub_grade_C3', 'sub_grade_C4', 'sub_grade_C5', 'sub_grade_D1', 'sub_grade_D2', 'sub_grade_D3', 'sub_grade_D4', 'sub_grade_D5', 'sub_grade_E1', 'sub_grade_E2', 'sub_grade_E3', 'sub_grade_E4', 'sub_grade_E5', 'sub_grade_F1', 'sub_grade_F2', 'sub_grade_F3', 'sub_grade_F4', 'sub_grade_F5', 'sub_grade_G1', 'sub_grade_G2', 'sub_grade_G3', 'sub_grade_G4', 'sub_grade_G5', 'verification_status_Source Verified', 'verification_status_Verified']\n"
     ]
    }
   ],
   "source": [
    "# creating list for important columns based on random forest feature importance\n",
    "important_col = ['collection_recovery_fee','total_pymnt','last_pymnt_amnt','out_prncp_inv','out_prncp',\n",
    "'funded_amnt','total_rec_int','int_rate','term_ 60 months','tot_cur_bal','total_rev_hi_lim','dti',\n",
    "'revol_bal','total_rec_late_fee','revol_util','annual_inc','total_acc','open_acc','initial_list_status',\n",
    "'inq_last_6mths']\n",
    "\n",
    "# creating unimportant columns in a list\n",
    "unimportant_col = []\n",
    "for i in X_train.columns:\n",
    "    if i not in important_col:\n",
    "        unimportant_col.append(i)\n",
    "print(unimportant_col)        "
   ]
  },
  {
   "cell_type": "code",
   "execution_count": 61,
   "metadata": {},
   "outputs": [
    {
     "name": "stdout",
     "output_type": "stream",
     "text": [
      "(598978, 19)\n",
      "(256991, 19)\n"
     ]
    }
   ],
   "source": [
    "# creating new dataframe and dropping unimportant columns\n",
    "X_train_rf = X_train.drop(unimportant_col, axis = 1)\n",
    "X_test_rf = X_test.drop(unimportant_col, axis=1)\n",
    "\n",
    "print(X_train_rf.shape)\n",
    "print(X_test_rf.shape)"
   ]
  },
  {
   "cell_type": "code",
   "execution_count": 66,
   "metadata": {},
   "outputs": [],
   "source": [
    "# changing column name for Xgboost\n",
    "X_train_rf.rename(index={'term_ 60 months':'term_ 60_months'}, inplace=True)\n",
    "X_test_rf.rename(index={'term_ 60 months':'term_ 60_months'}, inplace=True)"
   ]
  },
  {
   "cell_type": "markdown",
   "metadata": {},
   "source": [
    "### XGBoost with important columns"
   ]
  },
  {
   "cell_type": "code",
   "execution_count": 67,
   "metadata": {},
   "outputs": [
    {
     "name": "stdout",
     "output_type": "stream",
     "text": [
      "[0]\tvalidation_0-auc:0.94131\n",
      "Will train until validation_0-auc hasn't improved in 20 rounds.\n",
      "[1]\tvalidation_0-auc:0.94132\n",
      "[2]\tvalidation_0-auc:0.94165\n",
      "[3]\tvalidation_0-auc:0.94169\n",
      "[4]\tvalidation_0-auc:0.94428\n",
      "[5]\tvalidation_0-auc:0.94418\n",
      "[6]\tvalidation_0-auc:0.94440\n",
      "[7]\tvalidation_0-auc:0.94856\n",
      "[8]\tvalidation_0-auc:0.94908\n",
      "[9]\tvalidation_0-auc:0.94909\n",
      "[10]\tvalidation_0-auc:0.94999\n",
      "[11]\tvalidation_0-auc:0.95003\n",
      "[12]\tvalidation_0-auc:0.94971\n",
      "[13]\tvalidation_0-auc:0.94967\n",
      "[14]\tvalidation_0-auc:0.94976\n",
      "[15]\tvalidation_0-auc:0.94955\n",
      "[16]\tvalidation_0-auc:0.94712\n",
      "[17]\tvalidation_0-auc:0.94544\n",
      "[18]\tvalidation_0-auc:0.94712\n",
      "[19]\tvalidation_0-auc:0.94714\n",
      "[20]\tvalidation_0-auc:0.94706\n",
      "[21]\tvalidation_0-auc:0.94690\n",
      "[22]\tvalidation_0-auc:0.94612\n",
      "[23]\tvalidation_0-auc:0.94119\n",
      "[24]\tvalidation_0-auc:0.92644\n",
      "[25]\tvalidation_0-auc:0.92628\n",
      "[26]\tvalidation_0-auc:0.92578\n",
      "[27]\tvalidation_0-auc:0.92511\n",
      "[28]\tvalidation_0-auc:0.92428\n",
      "[29]\tvalidation_0-auc:0.92224\n",
      "[30]\tvalidation_0-auc:0.92186\n",
      "[31]\tvalidation_0-auc:0.92214\n",
      "Stopping. Best iteration:\n",
      "[11]\tvalidation_0-auc:0.95003\n",
      "\n"
     ]
    },
    {
     "data": {
      "text/plain": [
       "XGBClassifier(base_score=0.5, booster='gbtree', colsample_bylevel=1,\n",
       "              colsample_bynode=1, colsample_bytree=1, gamma=10, gpu_id=-1,\n",
       "              importance_type='gain', interaction_constraints='',\n",
       "              learning_rate=0.05, max_delta_step=0, max_depth=20,\n",
       "              min_child_weight=1, missing=nan, monotone_constraints='()',\n",
       "              n_estimators=500, n_jobs=0, num_parallel_tree=1,\n",
       "              objective='binary:logistic', random_state=9616, reg_alpha=0,\n",
       "              reg_lambda=1, scale_pos_weight=1, seed=9616, subsample=1,\n",
       "              tree_method='exact', validate_parameters=1, verbosity=None)"
      ]
     },
     "execution_count": 67,
     "metadata": {},
     "output_type": "execute_result"
    },
    {
     "name": "stdout",
     "output_type": "stream",
     "text": [
      "accuracy_score\n",
      "0.9971417981962609\n",
      "0.8885836468981404\n",
      "confusion_matrix\n",
      "[[552799     23]\n",
      " [  1689  44467]]\n",
      "[[228087  28593]\n",
      " [    40    271]]\n",
      "classification_report\n",
      "              precision    recall  f1-score   support\n",
      "\n",
      "           0       1.00      1.00      1.00    552822\n",
      "           1       1.00      0.96      0.98     46156\n",
      "\n",
      "    accuracy                           1.00    598978\n",
      "   macro avg       1.00      0.98      0.99    598978\n",
      "weighted avg       1.00      1.00      1.00    598978\n",
      "\n",
      "              precision    recall  f1-score   support\n",
      "\n",
      "           0       1.00      0.89      0.94    256680\n",
      "           1       0.01      0.87      0.02       311\n",
      "\n",
      "    accuracy                           0.89    256991\n",
      "   macro avg       0.50      0.88      0.48    256991\n",
      "weighted avg       1.00      0.89      0.94    256991\n",
      "\n"
     ]
    }
   ],
   "source": [
    "import xgboost\n",
    "from sklearn.metrics import auc\n",
    "\n",
    "xg = xgboost.sklearn.XGBClassifier(\n",
    "    objective=\"binary:logistic\", \n",
    "    learning_rate=0.05, \n",
    "    seed=9616, \n",
    "    max_depth=20, \n",
    "    gamma=10, \n",
    "    n_estimators=500)\n",
    "\n",
    "xg.fit(X_train_rf, y_train, early_stopping_rounds=20, \n",
    "        eval_metric=\"auc\", eval_set=[(X_test_rf, y_test)], verbose=True)\n",
    "\n",
    "# finding prediction values\n",
    "y_p_train_xg = xg.predict(X_train_rf)\n",
    "y_p_test_xg = xg.predict(X_test_rf)\n",
    "\n",
    "# finding accuracy score\n",
    "print(\"accuracy_score\")\n",
    "print(accuracy_score(y_train, y_p_train_xg))\n",
    "print(accuracy_score(y_test, y_p_test_xg))\n",
    "\n",
    "print(\"confusion_matrix\")\n",
    "print(confusion_matrix(y_train, y_p_train_xg))\n",
    "print(confusion_matrix(y_test, y_p_test_xg))\n",
    "\n",
    "print(\"classification_report\")\n",
    "print(classification_report(y_train, y_p_train_xg))\n",
    "print(classification_report(y_test, y_p_test_xg))"
   ]
  },
  {
   "cell_type": "markdown",
   "metadata": {},
   "source": [
    "### Hyperparameter tuning"
   ]
  },
  {
   "cell_type": "code",
   "execution_count": 70,
   "metadata": {},
   "outputs": [
    {
     "data": {
      "text/plain": [
       "RandomizedSearchCV(cv=None, error_score=nan,\n",
       "                   estimator=XGBClassifier(base_score=None, booster=None,\n",
       "                                           colsample_bylevel=None,\n",
       "                                           colsample_bynode=None,\n",
       "                                           colsample_bytree=None, gamma=None,\n",
       "                                           gpu_id=None, importance_type='gain',\n",
       "                                           interaction_constraints=None,\n",
       "                                           learning_rate=None,\n",
       "                                           max_delta_step=None, max_depth=None,\n",
       "                                           min_child_weight=None, missing=nan,\n",
       "                                           monotone_constraints=Non...\n",
       "                                           validate_parameters=None,\n",
       "                                           verbosity=None),\n",
       "                   iid=False, n_iter=10, n_jobs=-1,\n",
       "                   param_distributions={'colsample_bytree': [0.3, 0.4, 0.5,\n",
       "                                                             0.7],\n",
       "                                        'gamma': [0.0, 0.1, 0.2, 0.3, 0.4],\n",
       "                                        'learning_rate': [0.05, 0.1, 0.15, 0.2,\n",
       "                                                          0.25, 0.3],\n",
       "                                        'max_depth': [3, 4, 5, 6, 8, 10, 12,\n",
       "                                                      15],\n",
       "                                        'min_child_weight': [1, 3, 5, 7]},\n",
       "                   pre_dispatch='2*n_jobs', random_state=None, refit=True,\n",
       "                   return_train_score=False, scoring='roc_auc', verbose=0)"
      ]
     },
     "execution_count": 70,
     "metadata": {},
     "output_type": "execute_result"
    },
    {
     "data": {
      "text/plain": [
       "({'min_child_weight': 7,\n",
       "  'max_depth': 3,\n",
       "  'learning_rate': 0.1,\n",
       "  'gamma': 0.3,\n",
       "  'colsample_bytree': 0.4},\n",
       " 0.990347402618067)"
      ]
     },
     "execution_count": 70,
     "metadata": {},
     "output_type": "execute_result"
    }
   ],
   "source": [
    "from xgboost import XGBClassifier\n",
    "from sklearn.model_selection import RandomizedSearchCV\n",
    "\n",
    "param_test1 = {\"learning_rate\"    : [0.05, 0.10, 0.15, 0.20, 0.25, 0.30 ] ,\n",
    " \"max_depth\"        : [ 3, 4, 5, 6, 8, 10, 12, 15],\n",
    " \"min_child_weight\" : [ 1, 3, 5, 7 ],\n",
    " \"gamma\"            : [ 0.0, 0.1, 0.2 , 0.3, 0.4 ],\n",
    " \"colsample_bytree\" : [ 0.3, 0.4, 0.5 , 0.7 ] }\n",
    "\n",
    "\n",
    "xgbclf = XGBClassifier(n_estimators=500,subsample=0.8,\n",
    " objective= 'binary:logistic', nthread=4, scale_pos_weight=1, seed=27) \n",
    " \n",
    "\n",
    "rsearch1 = RandomizedSearchCV(estimator=xgbclf, \n",
    "                              param_distributions = param_test1, \n",
    "                              scoring='roc_auc',\n",
    "                              n_jobs=-1,\n",
    "                              iid=False)\n",
    "\n",
    "\n",
    "rsearch1.fit(X_train_rf, y_train)\n",
    "rsearch1.best_params_, rsearch1.best_score_"
   ]
  },
  {
   "cell_type": "markdown",
   "metadata": {},
   "source": [
    "### XGBoost with best parameters"
   ]
  },
  {
   "cell_type": "code",
   "execution_count": 71,
   "metadata": {},
   "outputs": [
    {
     "name": "stdout",
     "output_type": "stream",
     "text": [
      "accuracy_score\n",
      "0.9968179131787812\n",
      "0.4892622698849376\n",
      "confusion_matrix\n",
      "[[552809     13]\n",
      " [  1893  44263]]\n",
      "[[125431 131249]\n",
      " [     6    305]]\n",
      "classification_report\n",
      "              precision    recall  f1-score   support\n",
      "\n",
      "           0       1.00      1.00      1.00    552822\n",
      "           1       1.00      0.96      0.98     46156\n",
      "\n",
      "    accuracy                           1.00    598978\n",
      "   macro avg       1.00      0.98      0.99    598978\n",
      "weighted avg       1.00      1.00      1.00    598978\n",
      "\n",
      "              precision    recall  f1-score   support\n",
      "\n",
      "           0       1.00      0.49      0.66    256680\n",
      "           1       0.00      0.98      0.00       311\n",
      "\n",
      "    accuracy                           0.49    256991\n",
      "   macro avg       0.50      0.73      0.33    256991\n",
      "weighted avg       1.00      0.49      0.66    256991\n",
      "\n"
     ]
    }
   ],
   "source": [
    "# finding prediction values\n",
    "y_p_train_xg_h = rsearch1.predict(X_train_rf)\n",
    "y_p_test_xg_h = rsearch1.predict(X_test_rf)\n",
    "\n",
    "# finding accuracy score\n",
    "print(\"accuracy_score\")\n",
    "print(accuracy_score(y_train, y_p_train_xg_h))\n",
    "print(accuracy_score(y_test, y_p_test_xg_h))\n",
    "\n",
    "print(\"confusion_matrix\")\n",
    "print(confusion_matrix(y_train, y_p_train_xg_h))\n",
    "print(confusion_matrix(y_test, y_p_test_xg_h))\n",
    "\n",
    "print(\"classification_report\")\n",
    "print(classification_report(y_train, y_p_train_xg_h))\n",
    "print(classification_report(y_test, y_p_test_xg_h))"
   ]
  },
  {
   "cell_type": "markdown",
   "metadata": {},
   "source": [
    "### Model building - 2"
   ]
  },
  {
   "cell_type": "markdown",
   "metadata": {},
   "source": [
    "we got some important variables through random forest so we are going to Build model with important columns"
   ]
  },
  {
   "cell_type": "markdown",
   "metadata": {},
   "source": [
    "#### Logistic Regression with X_train_rf dataset(19 variables)"
   ]
  },
  {
   "cell_type": "code",
   "execution_count": 97,
   "metadata": {},
   "outputs": [
    {
     "data": {
      "text/plain": [
       "LogisticRegression(C=1.0, class_weight=None, dual=False, fit_intercept=True,\n",
       "                   intercept_scaling=1, l1_ratio=None, max_iter=100,\n",
       "                   multi_class='auto', n_jobs=None, penalty='l2',\n",
       "                   random_state=123, solver='lbfgs', tol=0.0001, verbose=0,\n",
       "                   warm_start=False)"
      ]
     },
     "execution_count": 97,
     "metadata": {},
     "output_type": "execute_result"
    },
    {
     "name": "stdout",
     "output_type": "stream",
     "text": [
      "accuracy_score\n",
      "0.996597537806063\n",
      "0.9996186636886116\n",
      "confusion_matrix\n",
      "[[552788     34]\n",
      " [  2004  44152]]\n",
      "[[256646     34]\n",
      " [    64    247]]\n",
      "classification_report\n",
      "              precision    recall  f1-score   support\n",
      "\n",
      "           0       1.00      1.00      1.00    552822\n",
      "           1       1.00      0.96      0.98     46156\n",
      "\n",
      "    accuracy                           1.00    598978\n",
      "   macro avg       1.00      0.98      0.99    598978\n",
      "weighted avg       1.00      1.00      1.00    598978\n",
      "\n",
      "              precision    recall  f1-score   support\n",
      "\n",
      "           0       1.00      1.00      1.00    256680\n",
      "           1       0.88      0.79      0.83       311\n",
      "\n",
      "    accuracy                           1.00    256991\n",
      "   macro avg       0.94      0.90      0.92    256991\n",
      "weighted avg       1.00      1.00      1.00    256991\n",
      "\n"
     ]
    }
   ],
   "source": [
    "from sklearn.metrics import accuracy_score, f1_score, confusion_matrix, classification_report\n",
    "from sklearn.linear_model import LogisticRegression\n",
    "\n",
    "model_log_2 = LogisticRegression(random_state = 123)\n",
    "model_log_2.fit(X_train_rf, y_train)\n",
    "\n",
    "y_p_train_log_2 = model_log_2.predict(X_train_rf)\n",
    "y_p_test_log_2 = model_log_2.predict(X_test_rf)\n",
    "\n",
    "print(\"accuracy_score\")\n",
    "print(accuracy_score(y_train, y_p_train_log_2))\n",
    "print(accuracy_score(y_test, y_p_test_log_2))\n",
    "\n",
    "print(\"confusion_matrix\")\n",
    "print(confusion_matrix(y_train, y_p_train_log_2))\n",
    "print(confusion_matrix(y_test, y_p_test_log_2))\n",
    "\n",
    "print(\"classification_report\")\n",
    "print(classification_report(y_train, y_p_train_log_2))\n",
    "print(classification_report(y_test, y_p_test_log_2))"
   ]
  },
  {
   "cell_type": "markdown",
   "metadata": {},
   "source": [
    "### Decision tree"
   ]
  },
  {
   "cell_type": "code",
   "execution_count": 74,
   "metadata": {},
   "outputs": [
    {
     "data": {
      "text/plain": [
       "DecisionTreeClassifier(ccp_alpha=0.0, class_weight=None, criterion='gini',\n",
       "                       max_depth=None, max_features=None, max_leaf_nodes=None,\n",
       "                       min_impurity_decrease=0.0, min_impurity_split=None,\n",
       "                       min_samples_leaf=1, min_samples_split=2,\n",
       "                       min_weight_fraction_leaf=0.0, presort='deprecated',\n",
       "                       random_state=123, splitter='best')"
      ]
     },
     "execution_count": 74,
     "metadata": {},
     "output_type": "execute_result"
    },
    {
     "name": "stdout",
     "output_type": "stream",
     "text": [
      "accuracy_score\n",
      "1.0\n",
      "0.4534516772960921\n",
      "confusion_matrix\n",
      "[[552822      0]\n",
      " [     0  46156]]\n",
      "[[116233 140447]\n",
      " [    11    300]]\n",
      "classification_report\n",
      "              precision    recall  f1-score   support\n",
      "\n",
      "           0       1.00      1.00      1.00    552822\n",
      "           1       1.00      1.00      1.00     46156\n",
      "\n",
      "    accuracy                           1.00    598978\n",
      "   macro avg       1.00      1.00      1.00    598978\n",
      "weighted avg       1.00      1.00      1.00    598978\n",
      "\n",
      "              precision    recall  f1-score   support\n",
      "\n",
      "           0       1.00      0.45      0.62    256680\n",
      "           1       0.00      0.96      0.00       311\n",
      "\n",
      "    accuracy                           0.45    256991\n",
      "   macro avg       0.50      0.71      0.31    256991\n",
      "weighted avg       1.00      0.45      0.62    256991\n",
      "\n"
     ]
    }
   ],
   "source": [
    "from sklearn.tree import DecisionTreeClassifier\n",
    "from sklearn.metrics import accuracy_score, f1_score, confusion_matrix, classification_report\n",
    "\n",
    "# Building decision tree model without any parameters\n",
    "model_dt_2 = DecisionTreeClassifier(random_state= 123)\n",
    "model_dt_2.fit(X_train_rf, y_train)\n",
    "\n",
    "\n",
    "# finding prediction values\n",
    "y_p_train_dt = model_dt_2.predict(X_train_rf)\n",
    "y_p_test_dt = model_dt_2.predict(X_test_rf)\n",
    "\n",
    "# finding accuracy score\n",
    "print(\"accuracy_score\")\n",
    "print(accuracy_score(y_train, y_p_train_dt))\n",
    "print(accuracy_score(y_test, y_p_test_dt))\n",
    "\n",
    "print(\"confusion_matrix\")\n",
    "print(confusion_matrix(y_train, y_p_train_dt))\n",
    "print(confusion_matrix(y_test, y_p_test_dt))\n",
    "\n",
    "print(\"classification_report\")\n",
    "print(classification_report(y_train, y_p_train_dt))\n",
    "print(classification_report(y_test, y_p_test_dt))"
   ]
  },
  {
   "cell_type": "markdown",
   "metadata": {},
   "source": [
    "### Random forest"
   ]
  },
  {
   "cell_type": "code",
   "execution_count": 76,
   "metadata": {},
   "outputs": [
    {
     "data": {
      "text/plain": [
       "RandomForestClassifier(bootstrap=True, ccp_alpha=0.0, class_weight=None,\n",
       "                       criterion='gini', max_depth=None, max_features='auto',\n",
       "                       max_leaf_nodes=None, max_samples=None,\n",
       "                       min_impurity_decrease=0.0, min_impurity_split=None,\n",
       "                       min_samples_leaf=1, min_samples_split=2,\n",
       "                       min_weight_fraction_leaf=0.0, n_estimators=100,\n",
       "                       n_jobs=None, oob_score=False, random_state=123,\n",
       "                       verbose=0, warm_start=False)"
      ]
     },
     "execution_count": 76,
     "metadata": {},
     "output_type": "execute_result"
    },
    {
     "name": "stdout",
     "output_type": "stream",
     "text": [
      "accuracy_score\n",
      "0.9999933219584025\n",
      "0.4711565774676934\n",
      "confusion_matrix\n",
      "[[552822      0]\n",
      " [     4  46152]]\n",
      "[[120776 135904]\n",
      " [     4    307]]\n",
      "classification_report\n",
      "              precision    recall  f1-score   support\n",
      "\n",
      "           0       1.00      1.00      1.00    552822\n",
      "           1       1.00      1.00      1.00     46156\n",
      "\n",
      "    accuracy                           1.00    598978\n",
      "   macro avg       1.00      1.00      1.00    598978\n",
      "weighted avg       1.00      1.00      1.00    598978\n",
      "\n",
      "              precision    recall  f1-score   support\n",
      "\n",
      "           0       1.00      0.47      0.64    256680\n",
      "           1       0.00      0.99      0.00       311\n",
      "\n",
      "    accuracy                           0.47    256991\n",
      "   macro avg       0.50      0.73      0.32    256991\n",
      "weighted avg       1.00      0.47      0.64    256991\n",
      "\n"
     ]
    }
   ],
   "source": [
    "from sklearn.ensemble import RandomForestClassifier\n",
    "from sklearn.metrics import accuracy_score, f1_score, confusion_matrix, classification_report\n",
    "\n",
    "# Building decision tree model without any parameters\n",
    "model_rf_2 = RandomForestClassifier(random_state= 123)\n",
    "model_rf_2.fit(X_train_rf, y_train)\n",
    "\n",
    "\n",
    "# finding prediction values\n",
    "y_p_train_rf = model_rf_2.predict(X_train_rf)\n",
    "y_p_test_rf = model_rf_2.predict(X_test_rf)\n",
    "\n",
    "# finding accuracy score\n",
    "print(\"accuracy_score\")\n",
    "print(accuracy_score(y_train, y_p_train_rf))\n",
    "print(accuracy_score(y_test, y_p_test_rf))\n",
    "\n",
    "print(\"confusion_matrix\")\n",
    "print(confusion_matrix(y_train, y_p_train_rf))\n",
    "print(confusion_matrix(y_test, y_p_test_rf))\n",
    "\n",
    "print(\"classification_report\")\n",
    "print(classification_report(y_train, y_p_train_rf))\n",
    "print(classification_report(y_test, y_p_test_rf))"
   ]
  },
  {
   "cell_type": "markdown",
   "metadata": {},
   "source": [
    "## 3. Undersampling"
   ]
  },
  {
   "cell_type": "code",
   "execution_count": 78,
   "metadata": {},
   "outputs": [
    {
     "data": {
      "text/plain": [
       "0    552822\n",
       "1     46156\n",
       "Name: default_ind, dtype: int64"
      ]
     },
     "execution_count": 78,
     "metadata": {},
     "output_type": "execute_result"
    }
   ],
   "source": [
    "y_train.value_counts()"
   ]
  },
  {
   "cell_type": "code",
   "execution_count": 79,
   "metadata": {},
   "outputs": [
    {
     "data": {
      "text/plain": [
       "0    256680\n",
       "1       311\n",
       "Name: default_ind, dtype: int64"
      ]
     },
     "execution_count": 79,
     "metadata": {},
     "output_type": "execute_result"
    }
   ],
   "source": [
    "y_test.value_counts()"
   ]
  },
  {
   "cell_type": "code",
   "execution_count": 80,
   "metadata": {},
   "outputs": [
    {
     "name": "stderr",
     "output_type": "stream",
     "text": [
      "Using TensorFlow backend.\n"
     ]
    }
   ],
   "source": [
    "from imblearn.under_sampling import RandomUnderSampler\n",
    "\n",
    "rus = RandomUnderSampler()\n",
    "X_train_rus, y_train_rus = rus.fit_sample(X_train_rf, y_train)"
   ]
  },
  {
   "cell_type": "code",
   "execution_count": 81,
   "metadata": {},
   "outputs": [
    {
     "name": "stdout",
     "output_type": "stream",
     "text": [
      "(92312, 19)\n",
      "(92312,)\n"
     ]
    }
   ],
   "source": [
    "print(X_train_rus.shape)\n",
    "print(y_train_rus.shape)"
   ]
  },
  {
   "cell_type": "markdown",
   "metadata": {},
   "source": [
    "### Logistic regression with undersampling data"
   ]
  },
  {
   "cell_type": "code",
   "execution_count": 82,
   "metadata": {},
   "outputs": [
    {
     "data": {
      "text/plain": [
       "LogisticRegression(C=1.0, class_weight=None, dual=False, fit_intercept=True,\n",
       "                   intercept_scaling=1, l1_ratio=None, max_iter=100,\n",
       "                   multi_class='auto', n_jobs=None, penalty='l2',\n",
       "                   random_state=123, solver='lbfgs', tol=0.0001, verbose=0,\n",
       "                   warm_start=False)"
      ]
     },
     "execution_count": 82,
     "metadata": {},
     "output_type": "execute_result"
    },
    {
     "name": "stdout",
     "output_type": "stream",
     "text": [
      "accuracy_score\n",
      "0.9830032931796516\n",
      "0.9993073687405396\n",
      "confusion_matrix\n",
      "[[46132    24]\n",
      " [ 1545 44611]]\n",
      "[[256566    114]\n",
      " [    64    247]]\n",
      "classification_report\n",
      "              precision    recall  f1-score   support\n",
      "\n",
      "           0       0.97      1.00      0.98     46156\n",
      "           1       1.00      0.97      0.98     46156\n",
      "\n",
      "    accuracy                           0.98     92312\n",
      "   macro avg       0.98      0.98      0.98     92312\n",
      "weighted avg       0.98      0.98      0.98     92312\n",
      "\n",
      "              precision    recall  f1-score   support\n",
      "\n",
      "           0       1.00      1.00      1.00    256680\n",
      "           1       0.68      0.79      0.74       311\n",
      "\n",
      "    accuracy                           1.00    256991\n",
      "   macro avg       0.84      0.90      0.87    256991\n",
      "weighted avg       1.00      1.00      1.00    256991\n",
      "\n"
     ]
    }
   ],
   "source": [
    "from sklearn.metrics import accuracy_score, f1_score, confusion_matrix, classification_report\n",
    "from sklearn.linear_model import LogisticRegression\n",
    "\n",
    "model_log_3 = LogisticRegression(random_state = 123)\n",
    "model_log_3.fit(X_train_rus, y_train_rus)\n",
    "\n",
    "y_p_train_log = model_log_3.predict(X_train_rus)\n",
    "y_p_test_log = model_log_3.predict(X_test_rf)\n",
    "\n",
    "print(\"accuracy_score\")\n",
    "print(accuracy_score(y_train_rus, y_p_train_log))\n",
    "print(accuracy_score(y_test, y_p_test_log))\n",
    "\n",
    "print(\"confusion_matrix\")\n",
    "print(confusion_matrix(y_train_rus, y_p_train_log))\n",
    "print(confusion_matrix(y_test, y_p_test_log))\n",
    "\n",
    "print(\"classification_report\")\n",
    "print(classification_report(y_train_rus, y_p_train_log))\n",
    "print(classification_report(y_test, y_p_test_log))"
   ]
  },
  {
   "cell_type": "markdown",
   "metadata": {},
   "source": [
    "### Hyperparameter tuning for Logistic regression (undersampling)"
   ]
  },
  {
   "cell_type": "code",
   "execution_count": 83,
   "metadata": {},
   "outputs": [
    {
     "data": {
      "text/plain": [
       "LogisticRegression(C=0.001, class_weight=None, dual=False, fit_intercept=True,\n",
       "                   intercept_scaling=1, l1_ratio=None, max_iter=100,\n",
       "                   multi_class='auto', n_jobs=None, penalty='l2',\n",
       "                   random_state=123, solver='lbfgs', tol=0.0001, verbose=0,\n",
       "                   warm_start=False)"
      ]
     },
     "execution_count": 83,
     "metadata": {},
     "output_type": "execute_result"
    },
    {
     "name": "stdout",
     "output_type": "stream",
     "text": [
      "classification_report 0.001\n",
      "              precision    recall  f1-score   support\n",
      "\n",
      "           0       1.00      1.00      1.00    256680\n",
      "           1       0.68      0.79      0.74       311\n",
      "\n",
      "    accuracy                           1.00    256991\n",
      "   macro avg       0.84      0.90      0.87    256991\n",
      "weighted avg       1.00      1.00      1.00    256991\n",
      "\n"
     ]
    },
    {
     "data": {
      "text/plain": [
       "LogisticRegression(C=0.01, class_weight=None, dual=False, fit_intercept=True,\n",
       "                   intercept_scaling=1, l1_ratio=None, max_iter=100,\n",
       "                   multi_class='auto', n_jobs=None, penalty='l2',\n",
       "                   random_state=123, solver='lbfgs', tol=0.0001, verbose=0,\n",
       "                   warm_start=False)"
      ]
     },
     "execution_count": 83,
     "metadata": {},
     "output_type": "execute_result"
    },
    {
     "name": "stdout",
     "output_type": "stream",
     "text": [
      "classification_report 0.01\n",
      "              precision    recall  f1-score   support\n",
      "\n",
      "           0       1.00      1.00      1.00    256680\n",
      "           1       0.69      0.79      0.74       311\n",
      "\n",
      "    accuracy                           1.00    256991\n",
      "   macro avg       0.84      0.90      0.87    256991\n",
      "weighted avg       1.00      1.00      1.00    256991\n",
      "\n"
     ]
    },
    {
     "data": {
      "text/plain": [
       "LogisticRegression(C=0.1, class_weight=None, dual=False, fit_intercept=True,\n",
       "                   intercept_scaling=1, l1_ratio=None, max_iter=100,\n",
       "                   multi_class='auto', n_jobs=None, penalty='l2',\n",
       "                   random_state=123, solver='lbfgs', tol=0.0001, verbose=0,\n",
       "                   warm_start=False)"
      ]
     },
     "execution_count": 83,
     "metadata": {},
     "output_type": "execute_result"
    },
    {
     "name": "stdout",
     "output_type": "stream",
     "text": [
      "classification_report 0.1\n",
      "              precision    recall  f1-score   support\n",
      "\n",
      "           0       1.00      1.00      1.00    256680\n",
      "           1       0.68      0.79      0.74       311\n",
      "\n",
      "    accuracy                           1.00    256991\n",
      "   macro avg       0.84      0.90      0.87    256991\n",
      "weighted avg       1.00      1.00      1.00    256991\n",
      "\n"
     ]
    },
    {
     "data": {
      "text/plain": [
       "LogisticRegression(C=1, class_weight=None, dual=False, fit_intercept=True,\n",
       "                   intercept_scaling=1, l1_ratio=None, max_iter=100,\n",
       "                   multi_class='auto', n_jobs=None, penalty='l2',\n",
       "                   random_state=123, solver='lbfgs', tol=0.0001, verbose=0,\n",
       "                   warm_start=False)"
      ]
     },
     "execution_count": 83,
     "metadata": {},
     "output_type": "execute_result"
    },
    {
     "name": "stdout",
     "output_type": "stream",
     "text": [
      "classification_report 1\n",
      "              precision    recall  f1-score   support\n",
      "\n",
      "           0       1.00      1.00      1.00    256680\n",
      "           1       0.68      0.79      0.74       311\n",
      "\n",
      "    accuracy                           1.00    256991\n",
      "   macro avg       0.84      0.90      0.87    256991\n",
      "weighted avg       1.00      1.00      1.00    256991\n",
      "\n"
     ]
    },
    {
     "data": {
      "text/plain": [
       "LogisticRegression(C=10, class_weight=None, dual=False, fit_intercept=True,\n",
       "                   intercept_scaling=1, l1_ratio=None, max_iter=100,\n",
       "                   multi_class='auto', n_jobs=None, penalty='l2',\n",
       "                   random_state=123, solver='lbfgs', tol=0.0001, verbose=0,\n",
       "                   warm_start=False)"
      ]
     },
     "execution_count": 83,
     "metadata": {},
     "output_type": "execute_result"
    },
    {
     "name": "stdout",
     "output_type": "stream",
     "text": [
      "classification_report 10\n",
      "              precision    recall  f1-score   support\n",
      "\n",
      "           0       1.00      1.00      1.00    256680\n",
      "           1       0.68      0.79      0.74       311\n",
      "\n",
      "    accuracy                           1.00    256991\n",
      "   macro avg       0.84      0.90      0.87    256991\n",
      "weighted avg       1.00      1.00      1.00    256991\n",
      "\n"
     ]
    },
    {
     "data": {
      "text/plain": [
       "LogisticRegression(C=100, class_weight=None, dual=False, fit_intercept=True,\n",
       "                   intercept_scaling=1, l1_ratio=None, max_iter=100,\n",
       "                   multi_class='auto', n_jobs=None, penalty='l2',\n",
       "                   random_state=123, solver='lbfgs', tol=0.0001, verbose=0,\n",
       "                   warm_start=False)"
      ]
     },
     "execution_count": 83,
     "metadata": {},
     "output_type": "execute_result"
    },
    {
     "name": "stdout",
     "output_type": "stream",
     "text": [
      "classification_report 100\n",
      "              precision    recall  f1-score   support\n",
      "\n",
      "           0       1.00      1.00      1.00    256680\n",
      "           1       0.68      0.79      0.74       311\n",
      "\n",
      "    accuracy                           1.00    256991\n",
      "   macro avg       0.84      0.90      0.87    256991\n",
      "weighted avg       1.00      1.00      1.00    256991\n",
      "\n"
     ]
    },
    {
     "data": {
      "text/plain": [
       "LogisticRegression(C=1000, class_weight=None, dual=False, fit_intercept=True,\n",
       "                   intercept_scaling=1, l1_ratio=None, max_iter=100,\n",
       "                   multi_class='auto', n_jobs=None, penalty='l2',\n",
       "                   random_state=123, solver='lbfgs', tol=0.0001, verbose=0,\n",
       "                   warm_start=False)"
      ]
     },
     "execution_count": 83,
     "metadata": {},
     "output_type": "execute_result"
    },
    {
     "name": "stdout",
     "output_type": "stream",
     "text": [
      "classification_report 1000\n",
      "              precision    recall  f1-score   support\n",
      "\n",
      "           0       1.00      1.00      1.00    256680\n",
      "           1       0.68      0.79      0.74       311\n",
      "\n",
      "    accuracy                           1.00    256991\n",
      "   macro avg       0.84      0.90      0.87    256991\n",
      "weighted avg       1.00      1.00      1.00    256991\n",
      "\n"
     ]
    }
   ],
   "source": [
    "from sklearn.metrics import accuracy_score, f1_score, confusion_matrix, classification_report\n",
    "from sklearn.linear_model import LogisticRegression\n",
    "\n",
    "C_range =  [0.001,0.01,0.1,1,10,100,1000]\n",
    "\n",
    "for i in C_range:\n",
    "    model_log_3 = LogisticRegression(penalty='l2', C=i,\n",
    "                                   random_state=123)\n",
    "    model_log_3.fit(X_train_rus, y_train_rus)\n",
    "\n",
    "    y_p_train_log = model_log_3.predict(X_train_rus)\n",
    "    y_p_test_log = model_log_3.predict(X_test_rf)\n",
    "    print(f\"classification_report {i}\")\n",
    "    print(classification_report(y_test, y_p_test_log))"
   ]
  },
  {
   "cell_type": "markdown",
   "metadata": {},
   "source": [
    "##### Note: There is no improvement with tunning c parameter"
   ]
  },
  {
   "cell_type": "code",
   "execution_count": 84,
   "metadata": {},
   "outputs": [
    {
     "name": "stdout",
     "output_type": "stream",
     "text": [
      "{'C': 2.0800406122899338, 'penalty': 'l2'}\n",
      "0.9816707697998392\n"
     ]
    }
   ],
   "source": [
    "from sklearn.model_selection import RandomizedSearchCV\n",
    "from sklearn.linear_model import LogisticRegression\n",
    "from scipy.stats import uniform\n",
    "\n",
    "log_3 = LogisticRegression()\n",
    "par = {'penalty':['l1', 'l2'], 'C':uniform(loc = 0, scale = 4)}\n",
    "\n",
    "clf_3 = RandomizedSearchCV(log_3, par, random_state=123, n_iter=100,n_jobs=-1)\n",
    "best_model_3 = clf_3.fit(X_train_rus, y_train_rus)\n",
    "\n",
    "\n",
    "print(best_model_3.best_params_)\n",
    "print(best_model_3.best_score_)"
   ]
  },
  {
   "cell_type": "markdown",
   "metadata": {},
   "source": [
    "### Logistic Regression with best parameters"
   ]
  },
  {
   "cell_type": "code",
   "execution_count": 98,
   "metadata": {},
   "outputs": [
    {
     "name": "stdout",
     "output_type": "stream",
     "text": [
      "accuracy_score\n",
      "0.9826674755178092\n",
      "0.9993073687405396\n",
      "confusion_matrix\n",
      "[[46132    24]\n",
      " [ 1576 44580]]\n",
      "[[256566    114]\n",
      " [    64    247]]\n",
      "classification_report\n",
      "              precision    recall  f1-score   support\n",
      "\n",
      "           0       0.97      1.00      0.98     46156\n",
      "           1       1.00      0.97      0.98     46156\n",
      "\n",
      "    accuracy                           0.98     92312\n",
      "   macro avg       0.98      0.98      0.98     92312\n",
      "weighted avg       0.98      0.98      0.98     92312\n",
      "\n",
      "              precision    recall  f1-score   support\n",
      "\n",
      "           0       1.00      1.00      1.00    256680\n",
      "           1       0.68      0.79      0.74       311\n",
      "\n",
      "    accuracy                           1.00    256991\n",
      "   macro avg       0.84      0.90      0.87    256991\n",
      "weighted avg       1.00      1.00      1.00    256991\n",
      "\n"
     ]
    }
   ],
   "source": [
    "from sklearn.metrics import accuracy_score, f1_score, confusion_matrix, classification_report\n",
    "from sklearn.linear_model import LogisticRegression\n",
    "\n",
    "y_p_train_log_3 = best_model_3.predict(X_train_rus)\n",
    "y_p_test_log_3 = best_model_3.predict(X_test_rf)\n",
    "\n",
    "print(\"accuracy_score\")\n",
    "print(accuracy_score(y_train_rus, y_p_train_log_3))\n",
    "print(accuracy_score(y_test, y_p_test_log_3))\n",
    "\n",
    "print(\"confusion_matrix\")\n",
    "print(confusion_matrix(y_train_rus, y_p_train_log_3))\n",
    "print(confusion_matrix(y_test, y_p_test_log_3))\n",
    "\n",
    "print(\"classification_report\")\n",
    "print(classification_report(y_train_rus, y_p_train_log_3))\n",
    "print(classification_report(y_test, y_p_test_log_3))"
   ]
  },
  {
   "cell_type": "markdown",
   "metadata": {},
   "source": [
    "### oversampling"
   ]
  },
  {
   "cell_type": "code",
   "execution_count": 87,
   "metadata": {},
   "outputs": [],
   "source": [
    "from imblearn.over_sampling import RandomOverSampler\n",
    "\n",
    "ros = RandomOverSampler()\n",
    "X_train_ros, y_train_ros = ros.fit_sample(X_train_rf, y_train)"
   ]
  },
  {
   "cell_type": "code",
   "execution_count": 88,
   "metadata": {},
   "outputs": [
    {
     "name": "stdout",
     "output_type": "stream",
     "text": [
      "(1105644, 19)\n",
      "(1105644,)\n"
     ]
    }
   ],
   "source": [
    "print(X_train_ros.shape)\n",
    "print(y_train_ros.shape)"
   ]
  },
  {
   "cell_type": "markdown",
   "metadata": {},
   "source": [
    "### Logistic regression with over sampling data"
   ]
  },
  {
   "cell_type": "code",
   "execution_count": 99,
   "metadata": {},
   "outputs": [
    {
     "data": {
      "text/plain": [
       "LogisticRegression(C=1.0, class_weight=None, dual=False, fit_intercept=True,\n",
       "                   intercept_scaling=1, l1_ratio=None, max_iter=100,\n",
       "                   multi_class='auto', n_jobs=None, penalty='l2',\n",
       "                   random_state=123, solver='lbfgs', tol=0.0001, verbose=0,\n",
       "                   warm_start=False)"
      ]
     },
     "execution_count": 99,
     "metadata": {},
     "output_type": "execute_result"
    },
    {
     "name": "stdout",
     "output_type": "stream",
     "text": [
      "accuracy_score\n",
      "0.9823460354327432\n",
      "0.9993073687405396\n",
      "confusion_matrix\n",
      "[[552446    376]\n",
      " [ 19143 533679]]\n",
      "[[256566    114]\n",
      " [    64    247]]\n",
      "classification_report\n",
      "              precision    recall  f1-score   support\n",
      "\n",
      "           0       0.97      1.00      0.98    552822\n",
      "           1       1.00      0.97      0.98    552822\n",
      "\n",
      "    accuracy                           0.98   1105644\n",
      "   macro avg       0.98      0.98      0.98   1105644\n",
      "weighted avg       0.98      0.98      0.98   1105644\n",
      "\n",
      "              precision    recall  f1-score   support\n",
      "\n",
      "           0       1.00      1.00      1.00    256680\n",
      "           1       0.68      0.79      0.74       311\n",
      "\n",
      "    accuracy                           1.00    256991\n",
      "   macro avg       0.84      0.90      0.87    256991\n",
      "weighted avg       1.00      1.00      1.00    256991\n",
      "\n"
     ]
    }
   ],
   "source": [
    "from sklearn.metrics import accuracy_score, f1_score, confusion_matrix, classification_report\n",
    "from sklearn.linear_model import LogisticRegression\n",
    "\n",
    "model_log_4 = LogisticRegression(random_state = 123)\n",
    "model_log_4.fit(X_train_ros, y_train_ros)\n",
    "\n",
    "y_p_train_log_4 = model_log_4.predict(X_train_ros)\n",
    "y_p_test_log_4 = model_log_4.predict(X_test_rf)\n",
    "\n",
    "print(\"accuracy_score\")\n",
    "print(accuracy_score(y_train_ros, y_p_train_log_4))\n",
    "print(accuracy_score(y_test, y_p_test_log_4))\n",
    "\n",
    "print(\"confusion_matrix\")\n",
    "print(confusion_matrix(y_train_ros, y_p_train_log_4))\n",
    "print(confusion_matrix(y_test, y_p_test_log_4))\n",
    "\n",
    "print(\"classification_report\")\n",
    "print(classification_report(y_train_ros, y_p_train_log_4))\n",
    "print(classification_report(y_test, y_p_test_log_4))"
   ]
  },
  {
   "cell_type": "markdown",
   "metadata": {},
   "source": [
    "### SMOTE "
   ]
  },
  {
   "cell_type": "code",
   "execution_count": 90,
   "metadata": {},
   "outputs": [],
   "source": [
    "from imblearn.combine import SMOTETomek\n",
    "\n",
    "smt = SMOTETomek()\n",
    "X_train_smt, y_train_smt = smt.fit_sample(X_train_rf, y_train)"
   ]
  },
  {
   "cell_type": "code",
   "execution_count": 91,
   "metadata": {},
   "outputs": [
    {
     "name": "stdout",
     "output_type": "stream",
     "text": [
      "(1104560, 19)\n",
      "(1104560,)\n"
     ]
    }
   ],
   "source": [
    "print(X_train_smt.shape)\n",
    "print(y_train_smt.shape)"
   ]
  },
  {
   "cell_type": "markdown",
   "metadata": {},
   "source": [
    "### Logistic regression - SMOTE"
   ]
  },
  {
   "cell_type": "code",
   "execution_count": 100,
   "metadata": {},
   "outputs": [
    {
     "data": {
      "text/plain": [
       "LogisticRegression(C=1.0, class_weight=None, dual=False, fit_intercept=True,\n",
       "                   intercept_scaling=1, l1_ratio=None, max_iter=100,\n",
       "                   multi_class='auto', n_jobs=None, penalty='l2',\n",
       "                   random_state=123, solver='lbfgs', tol=0.0001, verbose=0,\n",
       "                   warm_start=False)"
      ]
     },
     "execution_count": 100,
     "metadata": {},
     "output_type": "execute_result"
    },
    {
     "name": "stdout",
     "output_type": "stream",
     "text": [
      "accuracy_score\n",
      "0.9887520822771059\n",
      "0.9992061978824162\n",
      "confusion_matrix\n",
      "[[551945    335]\n",
      " [ 12089 540191]]\n",
      "[[256540    140]\n",
      " [    64    247]]\n",
      "classification_report\n",
      "              precision    recall  f1-score   support\n",
      "\n",
      "           0       0.98      1.00      0.99    552280\n",
      "           1       1.00      0.98      0.99    552280\n",
      "\n",
      "    accuracy                           0.99   1104560\n",
      "   macro avg       0.99      0.99      0.99   1104560\n",
      "weighted avg       0.99      0.99      0.99   1104560\n",
      "\n",
      "              precision    recall  f1-score   support\n",
      "\n",
      "           0       1.00      1.00      1.00    256680\n",
      "           1       0.64      0.79      0.71       311\n",
      "\n",
      "    accuracy                           1.00    256991\n",
      "   macro avg       0.82      0.90      0.85    256991\n",
      "weighted avg       1.00      1.00      1.00    256991\n",
      "\n"
     ]
    }
   ],
   "source": [
    "from sklearn.metrics import accuracy_score, f1_score, confusion_matrix, classification_report\n",
    "from sklearn.linear_model import LogisticRegression\n",
    "\n",
    "model_log_5 = LogisticRegression(random_state = 123)\n",
    "model_log_5.fit(X_train_smt, y_train_smt)\n",
    "\n",
    "y_p_train_log_5 = model_log_5.predict(X_train_smt)\n",
    "y_p_test_log_5 = model_log_5.predict(X_test_rf)\n",
    "\n",
    "print(\"accuracy_score\")\n",
    "print(accuracy_score(y_train_smt, y_p_train_log_5))\n",
    "print(accuracy_score(y_test, y_p_test_log_5))\n",
    "\n",
    "print(\"confusion_matrix\")\n",
    "print(confusion_matrix(y_train_smt, y_p_train_log_5))\n",
    "print(confusion_matrix(y_test, y_p_test_log_5))\n",
    "\n",
    "print(\"classification_report\")\n",
    "print(classification_report(y_train_smt, y_p_train_log_5))\n",
    "print(classification_report(y_test, y_p_test_log_5))"
   ]
  },
  {
   "cell_type": "markdown",
   "metadata": {},
   "source": [
    "### ROC Curve plot function"
   ]
  },
  {
   "cell_type": "code",
   "execution_count": 105,
   "metadata": {},
   "outputs": [],
   "source": [
    "from sklearn import metrics\n",
    "import seaborn as sns\n",
    "sns.set('talk', 'whitegrid', 'dark', font_scale=1, font='Ricty',rc={\"lines.linewidth\": 2, 'grid.linestyle': '--'})\n",
    "def plotAUC(truth, pred, lab):\n",
    "    fpr, tpr, _ = metrics.roc_curve(truth,pred)\n",
    "    roc_auc = metrics.auc(fpr, tpr)\n",
    "    lw = 2\n",
    "    c = (np.random.rand(), np.random.rand(), np.random.rand())\n",
    "    plt.plot(fpr, tpr, color= c,lw=lw, label= lab +'(AUC = %0.2f)' % roc_auc)\n",
    "    plt.plot([0, 1], [0, 1], color='navy', lw=lw, linestyle='--')\n",
    "    plt.xlim([0.0, 1.0])\n",
    "    plt.ylim([0.0, 1.0])\n",
    "    plt.xlabel('False Positive Rate')\n",
    "    plt.ylabel('True Positive Rate')\n",
    "    plt.title('ROC curve') #Receiver Operating Characteristic \n",
    "    plt.legend(loc=\"lower right\", prop= {'size':10})"
   ]
  },
  {
   "cell_type": "code",
   "execution_count": 106,
   "metadata": {},
   "outputs": [
    {
     "data": {
      "text/plain": [
       "<Figure size 720x720 with 0 Axes>"
      ]
     },
     "execution_count": 106,
     "metadata": {},
     "output_type": "execute_result"
    },
    {
     "name": "stderr",
     "output_type": "stream",
     "text": [
      "findfont: Font family ['Ricty'] not found. Falling back to DejaVu Sans.\n"
     ]
    },
    {
     "data": {
      "image/png": "[encoded data removed]",
      "text/plain": [
       "<Figure size 720x720 with 1 Axes>"
      ]
     },
     "metadata": {},
     "output_type": "display_data"
    }
   ],
   "source": [
    "plt.figure(figsize=(10,10))\n",
    "plotAUC(y_test, y_p_test_log_1, 'LogisticRegression with C = 100(82 var)')\n",
    "plotAUC(y_test, y_p_test_log_2, 'LogisticRegression with (19 var)')\n",
    "plotAUC(y_test, y_p_test_dt, 'Decision tree (19 var)')\n",
    "plotAUC(y_test, y_p_test_rf, 'Random forest (19 var)')\n",
    "plotAUC(y_test, y_p_test_xg_h, 'XGBoost with (19 var)')\n",
    "plotAUC(y_test, y_p_test_log_3, 'LogisticRegression with undersampling data')\n",
    "plotAUC(y_test, y_p_test_log_4, 'LogisticRegression with oversampling data')\n",
    "plotAUC(y_test, y_p_test_log_5, 'LogisticRegression with SMOTE data')\n",
    "plt.show()"
   ]
  },
  {
   "cell_type": "markdown",
   "metadata": {},
   "source": [
    "## Results"
   ]
  },
  {
   "cell_type": "markdown",
   "metadata": {},
   "source": [
    "### 1. All basic model results"
   ]
  },
  {
   "cell_type": "markdown",
   "metadata": {},
   "source": [
    "#### Logistic Regression"
   ]
  },
  {
   "cell_type": "markdown",
   "metadata": {},
   "source": [
    "Logistic regression basic model - precision (0.91), recall(0.90), f1-score (0.90)\n",
    "\n",
    "after hyper parameter tunning - p- 0.96, r - 0.90,f1- 0.93\n",
    "\n",
    "tuning c parameter - p - 1.00, r - 0.90, f1 - 0.94"
   ]
  },
  {
   "cell_type": "markdown",
   "metadata": {},
   "source": [
    "### Decision tree\n",
    "\n",
    "basic model - (Precision - 50, Recall - 70 , F1-score - 29)"
   ]
  },
  {
   "cell_type": "markdown",
   "metadata": {},
   "source": [
    "### Random forest\n",
    "\n",
    "basic model - (precision - 50, Recall - 85, F1-score - 43)"
   ]
  },
  {
   "cell_type": "markdown",
   "metadata": {},
   "source": [
    "### XGBoost:\n",
    "basic model:(Precision - 50 , Recall-88, F1-score -48)\n",
    "\n",
    "hyperparameter tuning:(Precision - 50 , Recall - 73, F1-score - 33"
   ]
  },
  {
   "cell_type": "markdown",
   "metadata": {},
   "source": [
    "### 2. After dropped unimportant columns"
   ]
  },
  {
   "cell_type": "markdown",
   "metadata": {},
   "source": [
    "#### Logistic regression \n",
    "precision - 94, Recall - 90, F1-score - 92\n",
    "\n",
    "#### Decision tree\n",
    "precision - 0.50 , Recall -  0.71 , F1-score - 0.31 \n",
    "\n",
    "#### Random forest\n",
    "precision - 0.50 , Recall -  0.73 , F1-score - 0.32 "
   ]
  },
  {
   "cell_type": "markdown",
   "metadata": {},
   "source": [
    "### 3. undersampling for important columns"
   ]
  },
  {
   "cell_type": "markdown",
   "metadata": {},
   "source": [
    "LogisticRegression precision - 0.84 , Recall - 0.90 , F1-score - 0.87"
   ]
  },
  {
   "cell_type": "markdown",
   "metadata": {},
   "source": [
    "### 4. Oversampling"
   ]
  },
  {
   "cell_type": "markdown",
   "metadata": {},
   "source": [
    "LogisticRegression\n",
    "precision - 0.84 , Recall -  0.90 , F1-score - 0.87 "
   ]
  },
  {
   "cell_type": "markdown",
   "metadata": {},
   "source": [
    "### 5. SMOTE"
   ]
  },
  {
   "cell_type": "markdown",
   "metadata": {},
   "source": [
    "Logisticregression \n",
    "precision - 0.82 , Recall -  0.90 , F1-score - 0.85 "
   ]
  },
  {
   "cell_type": "markdown",
   "metadata": {},
   "source": [
    "### Conclusion:\n",
    "Intital we built logistic, decision tree, random forest but only logistic regression perform very well. we got precision is 100%, recall is 90%, and F1-score is 94%. Remaining all algortithms overfitted on train data and underfitted on test data. Thereafter we dropped some variables based on random forest feature importance then we tried XGboost, Logistic, decision tree and randomforest but again logistic performed good on important columns dataset but it didn't cross previous results. Afterthat we used sampling techinques such as downsampling, upsampling and SMOTE but these also didn't cross logistic 1st model results\n",
    "\n",
    "Finally our best model is Logistic Regression with precision - 100%, Recall - 90% and F1-score - 94%"
   ]
  },
  {
   "cell_type": "code",
   "execution_count": null,
   "metadata": {},
   "outputs": [],
   "source": []
  },
  {
   "cell_type": "code",
   "execution_count": null,
   "metadata": {},
   "outputs": [],
   "source": []
  },
  {
   "cell_type": "code",
   "execution_count": null,
   "metadata": {},
   "outputs": [],
   "source": []
  }
 ],
 "metadata": {
  "kernelspec": {
   "display_name": "Python 3",
   "language": "python",
   "name": "python3"
  },
  "language_info": {
   "codemirror_mode": {
    "name": "ipython",
    "version": 3
   },
   "file_extension": ".py",
   "mimetype": "text/x-python",
   "name": "python",
   "nbconvert_exporter": "python",
   "pygments_lexer": "ipython3",
   "version": "3.7.6"
  }
 },
 "nbformat": 4,
 "nbformat_minor": 4
}
